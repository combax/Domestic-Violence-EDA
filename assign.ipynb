{
 "cells": [
  {
   "cell_type": "markdown",
   "metadata": {},
   "source": [
    "# Multivariate EDA of Domestic Violence Against Women dataset.\n",
    "#### Kharanshu Manoj Naghera (0792028)"
   ]
  },
  {
   "cell_type": "markdown",
   "metadata": {},
   "source": [
    "## About Dataset:\n",
    "\n",
    "This [dataset](\"https://www.kaggle.com/datasets/fahmidachowdhury/domestic-violence-against-women\") was uploaded on Kaggle by Fahmida Chowdhury and was last updated 22 June 2024. It contains domestic violence aganist women in a specific rural are of a developing country."
   ]
  },
  {
   "cell_type": "markdown",
   "metadata": {},
   "source": [
    "This dataset is taken under [Attribution 4.0 International License](\"https://creativecommons.org/licenses/by/4.0/\")."
   ]
  },
  {
   "cell_type": "code",
   "execution_count": 1,
   "metadata": {},
   "outputs": [
    {
     "data": {
      "text/html": [
       "<div>\n",
       "<style scoped>\n",
       "    .dataframe tbody tr th:only-of-type {\n",
       "        vertical-align: middle;\n",
       "    }\n",
       "\n",
       "    .dataframe tbody tr th {\n",
       "        vertical-align: top;\n",
       "    }\n",
       "\n",
       "    .dataframe thead th {\n",
       "        text-align: right;\n",
       "    }\n",
       "</style>\n",
       "<table border=\"1\" class=\"dataframe\">\n",
       "  <thead>\n",
       "    <tr style=\"text-align: right;\">\n",
       "      <th></th>\n",
       "      <th>SL. No</th>\n",
       "      <th>Age</th>\n",
       "      <th>Education</th>\n",
       "      <th>Employment</th>\n",
       "      <th>Income</th>\n",
       "      <th>Marital status</th>\n",
       "      <th>Violence</th>\n",
       "    </tr>\n",
       "  </thead>\n",
       "  <tbody>\n",
       "    <tr>\n",
       "      <th>0</th>\n",
       "      <td>1</td>\n",
       "      <td>30</td>\n",
       "      <td>secondary</td>\n",
       "      <td>unemployed</td>\n",
       "      <td>0</td>\n",
       "      <td>married</td>\n",
       "      <td>yes</td>\n",
       "    </tr>\n",
       "    <tr>\n",
       "      <th>1</th>\n",
       "      <td>2</td>\n",
       "      <td>47</td>\n",
       "      <td>tertiary</td>\n",
       "      <td>unemployed</td>\n",
       "      <td>0</td>\n",
       "      <td>married</td>\n",
       "      <td>no</td>\n",
       "    </tr>\n",
       "    <tr>\n",
       "      <th>2</th>\n",
       "      <td>3</td>\n",
       "      <td>24</td>\n",
       "      <td>tertiary</td>\n",
       "      <td>unemployed</td>\n",
       "      <td>0</td>\n",
       "      <td>unmarred</td>\n",
       "      <td>no</td>\n",
       "    </tr>\n",
       "    <tr>\n",
       "      <th>3</th>\n",
       "      <td>4</td>\n",
       "      <td>22</td>\n",
       "      <td>tertiary</td>\n",
       "      <td>unemployed</td>\n",
       "      <td>0</td>\n",
       "      <td>unmarred</td>\n",
       "      <td>no</td>\n",
       "    </tr>\n",
       "    <tr>\n",
       "      <th>4</th>\n",
       "      <td>5</td>\n",
       "      <td>50</td>\n",
       "      <td>primary</td>\n",
       "      <td>unemployed</td>\n",
       "      <td>0</td>\n",
       "      <td>married</td>\n",
       "      <td>yes</td>\n",
       "    </tr>\n",
       "  </tbody>\n",
       "</table>\n",
       "</div>"
      ],
      "text/plain": [
       "   SL. No  Age Education  Employment   Income Marital status  Violence \n",
       "0       1   30  secondary  unemployed       0         married       yes\n",
       "1       2   47   tertiary  unemployed       0         married        no\n",
       "2       3   24   tertiary  unemployed       0        unmarred        no\n",
       "3       4   22   tertiary  unemployed       0        unmarred        no\n",
       "4       5   50    primary  unemployed       0         married       yes"
      ]
     },
     "execution_count": 1,
     "metadata": {},
     "output_type": "execute_result"
    }
   ],
   "source": [
    "import pandas as pd\n",
    "df = pd.read_csv('Domestic violence.csv')\n",
    "df.head()"
   ]
  },
  {
   "cell_type": "code",
   "execution_count": 2,
   "metadata": {},
   "outputs": [
    {
     "name": "stdout",
     "output_type": "stream",
     "text": [
      "Index(['SL. No', 'Age', 'Education ', 'Employment ', 'Income',\n",
      "       'Marital status ', 'Violence '],\n",
      "      dtype='object')\n"
     ]
    }
   ],
   "source": [
    "print(df.columns)"
   ]
  },
  {
   "cell_type": "code",
   "execution_count": 3,
   "metadata": {},
   "outputs": [
    {
     "name": "stdout",
     "output_type": "stream",
     "text": [
      "Index(['SL. No', 'Age', 'Education', 'Employment', 'Income', 'Marital status',\n",
      "       'Violence'],\n",
      "      dtype='object')\n"
     ]
    }
   ],
   "source": [
    "# Remove extra spaces from column names\n",
    "df.columns = df.columns.str.strip()\n",
    "\n",
    "# Verify the cleaned column names\n",
    "print(df.columns)"
   ]
  },
  {
   "cell_type": "code",
   "execution_count": 4,
   "metadata": {},
   "outputs": [],
   "source": [
    "# correcting spelling error\n",
    "df['Marital status'] = df['Marital status'].replace({'unmarred': 'unmarried'})"
   ]
  },
  {
   "cell_type": "code",
   "execution_count": 5,
   "metadata": {},
   "outputs": [],
   "source": [
    "# removing spaces from columns where they exist\n",
    "df['Employment'] = df['Employment'].str.strip()"
   ]
  },
  {
   "cell_type": "code",
   "execution_count": 6,
   "metadata": {},
   "outputs": [
    {
     "data": {
      "application/vnd.plotly.v1+json": {
       "config": {
        "plotlyServerURL": "https://plot.ly"
       },
       "data": [
        {
         "link": {
          "color": "rgba(0, 0, 0, 0.2)",
          "source": [
           0,
           5,
           0,
           5,
           0,
           4,
           0,
           4,
           0,
           4,
           0,
           2,
           0,
           2,
           0,
           2,
           0,
           3,
           0,
           3,
           0,
           3,
           1,
           4,
           1,
           2,
           1,
           2,
           1,
           2,
           1,
           3,
           1,
           3
          ],
          "target": [
           5,
           7,
           5,
           6,
           4,
           8,
           4,
           7,
           4,
           6,
           2,
           8,
           2,
           7,
           2,
           6,
           3,
           8,
           3,
           7,
           3,
           6,
           4,
           6,
           2,
           8,
           2,
           7,
           2,
           6,
           3,
           7,
           3,
           6
          ],
          "value": [
           9,
           9,
           43,
           43,
           5,
           5,
           13,
           13,
           111,
           111,
           4,
           4,
           11,
           11,
           69,
           69,
           15,
           15,
           3,
           3,
           17,
           17,
           3,
           3,
           2,
           2,
           7,
           7,
           21,
           21,
           4,
           4,
           10,
           10
          ]
         },
         "node": {
          "color": [
           "#34a0a4",
           "#34a0a4",
           "#168aad",
           "#168aad",
           "#168aad",
           "#168aad",
           "#1e6091",
           "#1e6091",
           "#1e6091"
          ],
          "label": [
           "married",
           "unmarried",
           "secondary",
           "tertiary",
           "primary",
           "none",
           "unemployed",
           "semi employed",
           "employed"
          ],
          "line": {
           "color": "black",
           "width": 0.5
          },
          "pad": 15,
          "thickness": 20
         },
         "type": "sankey"
        }
       ],
       "layout": {
        "font": {
         "family": "cursive",
         "size": 12
        },
        "height": 600,
        "plot_bgcolor": "white",
        "template": {
         "data": {
          "bar": [
           {
            "error_x": {
             "color": "#2a3f5f"
            },
            "error_y": {
             "color": "#2a3f5f"
            },
            "marker": {
             "line": {
              "color": "#E5ECF6",
              "width": 0.5
             },
             "pattern": {
              "fillmode": "overlay",
              "size": 10,
              "solidity": 0.2
             }
            },
            "type": "bar"
           }
          ],
          "barpolar": [
           {
            "marker": {
             "line": {
              "color": "#E5ECF6",
              "width": 0.5
             },
             "pattern": {
              "fillmode": "overlay",
              "size": 10,
              "solidity": 0.2
             }
            },
            "type": "barpolar"
           }
          ],
          "carpet": [
           {
            "aaxis": {
             "endlinecolor": "#2a3f5f",
             "gridcolor": "white",
             "linecolor": "white",
             "minorgridcolor": "white",
             "startlinecolor": "#2a3f5f"
            },
            "baxis": {
             "endlinecolor": "#2a3f5f",
             "gridcolor": "white",
             "linecolor": "white",
             "minorgridcolor": "white",
             "startlinecolor": "#2a3f5f"
            },
            "type": "carpet"
           }
          ],
          "choropleth": [
           {
            "colorbar": {
             "outlinewidth": 0,
             "ticks": ""
            },
            "type": "choropleth"
           }
          ],
          "contour": [
           {
            "colorbar": {
             "outlinewidth": 0,
             "ticks": ""
            },
            "colorscale": [
             [
              0,
              "#0d0887"
             ],
             [
              0.1111111111111111,
              "#46039f"
             ],
             [
              0.2222222222222222,
              "#7201a8"
             ],
             [
              0.3333333333333333,
              "#9c179e"
             ],
             [
              0.4444444444444444,
              "#bd3786"
             ],
             [
              0.5555555555555556,
              "#d8576b"
             ],
             [
              0.6666666666666666,
              "#ed7953"
             ],
             [
              0.7777777777777778,
              "#fb9f3a"
             ],
             [
              0.8888888888888888,
              "#fdca26"
             ],
             [
              1,
              "#f0f921"
             ]
            ],
            "type": "contour"
           }
          ],
          "contourcarpet": [
           {
            "colorbar": {
             "outlinewidth": 0,
             "ticks": ""
            },
            "type": "contourcarpet"
           }
          ],
          "heatmap": [
           {
            "colorbar": {
             "outlinewidth": 0,
             "ticks": ""
            },
            "colorscale": [
             [
              0,
              "#0d0887"
             ],
             [
              0.1111111111111111,
              "#46039f"
             ],
             [
              0.2222222222222222,
              "#7201a8"
             ],
             [
              0.3333333333333333,
              "#9c179e"
             ],
             [
              0.4444444444444444,
              "#bd3786"
             ],
             [
              0.5555555555555556,
              "#d8576b"
             ],
             [
              0.6666666666666666,
              "#ed7953"
             ],
             [
              0.7777777777777778,
              "#fb9f3a"
             ],
             [
              0.8888888888888888,
              "#fdca26"
             ],
             [
              1,
              "#f0f921"
             ]
            ],
            "type": "heatmap"
           }
          ],
          "heatmapgl": [
           {
            "colorbar": {
             "outlinewidth": 0,
             "ticks": ""
            },
            "colorscale": [
             [
              0,
              "#0d0887"
             ],
             [
              0.1111111111111111,
              "#46039f"
             ],
             [
              0.2222222222222222,
              "#7201a8"
             ],
             [
              0.3333333333333333,
              "#9c179e"
             ],
             [
              0.4444444444444444,
              "#bd3786"
             ],
             [
              0.5555555555555556,
              "#d8576b"
             ],
             [
              0.6666666666666666,
              "#ed7953"
             ],
             [
              0.7777777777777778,
              "#fb9f3a"
             ],
             [
              0.8888888888888888,
              "#fdca26"
             ],
             [
              1,
              "#f0f921"
             ]
            ],
            "type": "heatmapgl"
           }
          ],
          "histogram": [
           {
            "marker": {
             "pattern": {
              "fillmode": "overlay",
              "size": 10,
              "solidity": 0.2
             }
            },
            "type": "histogram"
           }
          ],
          "histogram2d": [
           {
            "colorbar": {
             "outlinewidth": 0,
             "ticks": ""
            },
            "colorscale": [
             [
              0,
              "#0d0887"
             ],
             [
              0.1111111111111111,
              "#46039f"
             ],
             [
              0.2222222222222222,
              "#7201a8"
             ],
             [
              0.3333333333333333,
              "#9c179e"
             ],
             [
              0.4444444444444444,
              "#bd3786"
             ],
             [
              0.5555555555555556,
              "#d8576b"
             ],
             [
              0.6666666666666666,
              "#ed7953"
             ],
             [
              0.7777777777777778,
              "#fb9f3a"
             ],
             [
              0.8888888888888888,
              "#fdca26"
             ],
             [
              1,
              "#f0f921"
             ]
            ],
            "type": "histogram2d"
           }
          ],
          "histogram2dcontour": [
           {
            "colorbar": {
             "outlinewidth": 0,
             "ticks": ""
            },
            "colorscale": [
             [
              0,
              "#0d0887"
             ],
             [
              0.1111111111111111,
              "#46039f"
             ],
             [
              0.2222222222222222,
              "#7201a8"
             ],
             [
              0.3333333333333333,
              "#9c179e"
             ],
             [
              0.4444444444444444,
              "#bd3786"
             ],
             [
              0.5555555555555556,
              "#d8576b"
             ],
             [
              0.6666666666666666,
              "#ed7953"
             ],
             [
              0.7777777777777778,
              "#fb9f3a"
             ],
             [
              0.8888888888888888,
              "#fdca26"
             ],
             [
              1,
              "#f0f921"
             ]
            ],
            "type": "histogram2dcontour"
           }
          ],
          "mesh3d": [
           {
            "colorbar": {
             "outlinewidth": 0,
             "ticks": ""
            },
            "type": "mesh3d"
           }
          ],
          "parcoords": [
           {
            "line": {
             "colorbar": {
              "outlinewidth": 0,
              "ticks": ""
             }
            },
            "type": "parcoords"
           }
          ],
          "pie": [
           {
            "automargin": true,
            "type": "pie"
           }
          ],
          "scatter": [
           {
            "fillpattern": {
             "fillmode": "overlay",
             "size": 10,
             "solidity": 0.2
            },
            "type": "scatter"
           }
          ],
          "scatter3d": [
           {
            "line": {
             "colorbar": {
              "outlinewidth": 0,
              "ticks": ""
             }
            },
            "marker": {
             "colorbar": {
              "outlinewidth": 0,
              "ticks": ""
             }
            },
            "type": "scatter3d"
           }
          ],
          "scattercarpet": [
           {
            "marker": {
             "colorbar": {
              "outlinewidth": 0,
              "ticks": ""
             }
            },
            "type": "scattercarpet"
           }
          ],
          "scattergeo": [
           {
            "marker": {
             "colorbar": {
              "outlinewidth": 0,
              "ticks": ""
             }
            },
            "type": "scattergeo"
           }
          ],
          "scattergl": [
           {
            "marker": {
             "colorbar": {
              "outlinewidth": 0,
              "ticks": ""
             }
            },
            "type": "scattergl"
           }
          ],
          "scattermapbox": [
           {
            "marker": {
             "colorbar": {
              "outlinewidth": 0,
              "ticks": ""
             }
            },
            "type": "scattermapbox"
           }
          ],
          "scatterpolar": [
           {
            "marker": {
             "colorbar": {
              "outlinewidth": 0,
              "ticks": ""
             }
            },
            "type": "scatterpolar"
           }
          ],
          "scatterpolargl": [
           {
            "marker": {
             "colorbar": {
              "outlinewidth": 0,
              "ticks": ""
             }
            },
            "type": "scatterpolargl"
           }
          ],
          "scatterternary": [
           {
            "marker": {
             "colorbar": {
              "outlinewidth": 0,
              "ticks": ""
             }
            },
            "type": "scatterternary"
           }
          ],
          "surface": [
           {
            "colorbar": {
             "outlinewidth": 0,
             "ticks": ""
            },
            "colorscale": [
             [
              0,
              "#0d0887"
             ],
             [
              0.1111111111111111,
              "#46039f"
             ],
             [
              0.2222222222222222,
              "#7201a8"
             ],
             [
              0.3333333333333333,
              "#9c179e"
             ],
             [
              0.4444444444444444,
              "#bd3786"
             ],
             [
              0.5555555555555556,
              "#d8576b"
             ],
             [
              0.6666666666666666,
              "#ed7953"
             ],
             [
              0.7777777777777778,
              "#fb9f3a"
             ],
             [
              0.8888888888888888,
              "#fdca26"
             ],
             [
              1,
              "#f0f921"
             ]
            ],
            "type": "surface"
           }
          ],
          "table": [
           {
            "cells": {
             "fill": {
              "color": "#EBF0F8"
             },
             "line": {
              "color": "white"
             }
            },
            "header": {
             "fill": {
              "color": "#C8D4E3"
             },
             "line": {
              "color": "white"
             }
            },
            "type": "table"
           }
          ]
         },
         "layout": {
          "annotationdefaults": {
           "arrowcolor": "#2a3f5f",
           "arrowhead": 0,
           "arrowwidth": 1
          },
          "autotypenumbers": "strict",
          "coloraxis": {
           "colorbar": {
            "outlinewidth": 0,
            "ticks": ""
           }
          },
          "colorscale": {
           "diverging": [
            [
             0,
             "#8e0152"
            ],
            [
             0.1,
             "#c51b7d"
            ],
            [
             0.2,
             "#de77ae"
            ],
            [
             0.3,
             "#f1b6da"
            ],
            [
             0.4,
             "#fde0ef"
            ],
            [
             0.5,
             "#f7f7f7"
            ],
            [
             0.6,
             "#e6f5d0"
            ],
            [
             0.7,
             "#b8e186"
            ],
            [
             0.8,
             "#7fbc41"
            ],
            [
             0.9,
             "#4d9221"
            ],
            [
             1,
             "#276419"
            ]
           ],
           "sequential": [
            [
             0,
             "#0d0887"
            ],
            [
             0.1111111111111111,
             "#46039f"
            ],
            [
             0.2222222222222222,
             "#7201a8"
            ],
            [
             0.3333333333333333,
             "#9c179e"
            ],
            [
             0.4444444444444444,
             "#bd3786"
            ],
            [
             0.5555555555555556,
             "#d8576b"
            ],
            [
             0.6666666666666666,
             "#ed7953"
            ],
            [
             0.7777777777777778,
             "#fb9f3a"
            ],
            [
             0.8888888888888888,
             "#fdca26"
            ],
            [
             1,
             "#f0f921"
            ]
           ],
           "sequentialminus": [
            [
             0,
             "#0d0887"
            ],
            [
             0.1111111111111111,
             "#46039f"
            ],
            [
             0.2222222222222222,
             "#7201a8"
            ],
            [
             0.3333333333333333,
             "#9c179e"
            ],
            [
             0.4444444444444444,
             "#bd3786"
            ],
            [
             0.5555555555555556,
             "#d8576b"
            ],
            [
             0.6666666666666666,
             "#ed7953"
            ],
            [
             0.7777777777777778,
             "#fb9f3a"
            ],
            [
             0.8888888888888888,
             "#fdca26"
            ],
            [
             1,
             "#f0f921"
            ]
           ]
          },
          "colorway": [
           "#636efa",
           "#EF553B",
           "#00cc96",
           "#ab63fa",
           "#FFA15A",
           "#19d3f3",
           "#FF6692",
           "#B6E880",
           "#FF97FF",
           "#FECB52"
          ],
          "font": {
           "color": "#2a3f5f"
          },
          "geo": {
           "bgcolor": "white",
           "lakecolor": "white",
           "landcolor": "#E5ECF6",
           "showlakes": true,
           "showland": true,
           "subunitcolor": "white"
          },
          "hoverlabel": {
           "align": "left"
          },
          "hovermode": "closest",
          "mapbox": {
           "style": "light"
          },
          "paper_bgcolor": "white",
          "plot_bgcolor": "#E5ECF6",
          "polar": {
           "angularaxis": {
            "gridcolor": "white",
            "linecolor": "white",
            "ticks": ""
           },
           "bgcolor": "#E5ECF6",
           "radialaxis": {
            "gridcolor": "white",
            "linecolor": "white",
            "ticks": ""
           }
          },
          "scene": {
           "xaxis": {
            "backgroundcolor": "#E5ECF6",
            "gridcolor": "white",
            "gridwidth": 2,
            "linecolor": "white",
            "showbackground": true,
            "ticks": "",
            "zerolinecolor": "white"
           },
           "yaxis": {
            "backgroundcolor": "#E5ECF6",
            "gridcolor": "white",
            "gridwidth": 2,
            "linecolor": "white",
            "showbackground": true,
            "ticks": "",
            "zerolinecolor": "white"
           },
           "zaxis": {
            "backgroundcolor": "#E5ECF6",
            "gridcolor": "white",
            "gridwidth": 2,
            "linecolor": "white",
            "showbackground": true,
            "ticks": "",
            "zerolinecolor": "white"
           }
          },
          "shapedefaults": {
           "line": {
            "color": "#2a3f5f"
           }
          },
          "ternary": {
           "aaxis": {
            "gridcolor": "white",
            "linecolor": "white",
            "ticks": ""
           },
           "baxis": {
            "gridcolor": "white",
            "linecolor": "white",
            "ticks": ""
           },
           "bgcolor": "#E5ECF6",
           "caxis": {
            "gridcolor": "white",
            "linecolor": "white",
            "ticks": ""
           }
          },
          "title": {
           "x": 0.05
          },
          "xaxis": {
           "automargin": true,
           "gridcolor": "white",
           "linecolor": "white",
           "ticks": "",
           "title": {
            "standoff": 15
           },
           "zerolinecolor": "white",
           "zerolinewidth": 2
          },
          "yaxis": {
           "automargin": true,
           "gridcolor": "white",
           "linecolor": "white",
           "ticks": "",
           "title": {
            "standoff": 15
           },
           "zerolinecolor": "white",
           "zerolinewidth": 2
          }
         }
        },
        "title": {
         "text": "Alluvial Diagram of Marital Status, Education, and Employment",
         "x": 0.5
        },
        "width": 1600,
        "xaxis": {
         "linecolor": "black",
         "linewidth": 2,
         "showline": true
        },
        "yaxis": {
         "linecolor": "black",
         "linewidth": 2,
         "showline": true
        }
       }
      }
     },
     "metadata": {},
     "output_type": "display_data"
    }
   ],
   "source": [
    "import plotly.graph_objects as go\n",
    "\n",
    "grouped_df = df.groupby(['Marital status', 'Education', 'Employment']).size().reset_index(name='count')\n",
    "\n",
    "marital_status = df['Marital status'].unique().tolist()\n",
    "education = df['Education'].unique().tolist()\n",
    "employment = df['Employment'].unique().tolist()\n",
    "\n",
    "categories = marital_status + education + employment\n",
    "\n",
    "category_index = {category: index for index, category in enumerate(categories)}\n",
    "\n",
    "nodes = [{\"name\": category} for category in categories]\n",
    "\n",
    "links = []\n",
    "for _, row in grouped_df.iterrows():\n",
    "    marital_idx = category_index[row['Marital status']]\n",
    "    education_idx = category_index[row['Education']]\n",
    "    employment_idx = category_index[row['Employment']]\n",
    "\n",
    "    links.append({\n",
    "        \"source\": marital_idx,\n",
    "        \"target\": education_idx,\n",
    "        \"value\": row['count']\n",
    "    })\n",
    "\n",
    "    links.append({\n",
    "        \"source\": education_idx,\n",
    "        \"target\": employment_idx,\n",
    "        \"value\": row['count']\n",
    "    })\n",
    "\n",
    "color_map = {\n",
    "    'married': '#34a0a4',\n",
    "    'unmarried': '#34a0a4',\n",
    "    'none': '#168aad',\n",
    "    'primary': '#168aad',\n",
    "    'secondary': '#168aad',\n",
    "    'tertiary': '#168aad',\n",
    "    'unemployed': '#1e6091',\n",
    "    'employed': '#1e6091',\n",
    "    'semi employed': '#1e6091'\n",
    "}\n",
    "\n",
    "node_colors = [color_map[node['name']] if node['name'] in color_map else '#888' for node in nodes]\n",
    "\n",
    "fig = go.Figure(data=[go.Sankey(\n",
    "    node=dict(\n",
    "        pad=15,\n",
    "        thickness=20,\n",
    "        line=dict(color=\"black\", width=0.5),\n",
    "        label=[node['name'] for node in nodes],\n",
    "        color=node_colors\n",
    "    ),\n",
    "    link=dict(\n",
    "        source=[link['source'] for link in links],\n",
    "        target=[link['target'] for link in links],\n",
    "        value=[link['value'] for link in links],\n",
    "        color=\"rgba(0, 0, 0, 0.2)\"\n",
    "    )\n",
    ")])\n",
    "\n",
    "fig.update_layout(\n",
    "    title_text=\"Alluvial Diagram of Marital Status, Education, and Employment\",\n",
    "    font=dict(family=\"cursive\", size=12),\n",
    "    plot_bgcolor='white',\n",
    "    width=1600,\n",
    "    height=600,\n",
    "    title_x=0.5,\n",
    "    xaxis=dict(showline=True, linewidth=2, linecolor='black'),\n",
    "    yaxis=dict(showline=True, linewidth=2, linecolor='black')\n",
    ")\n",
    "\n",
    "fig.show()\n"
   ]
  },
  {
   "cell_type": "code",
   "execution_count": 19,
   "metadata": {},
   "outputs": [
    {
     "data": {
      "application/vnd.plotly.v1+json": {
       "config": {
        "plotlyServerURL": "https://plot.ly"
       },
       "data": [
        {
         "alignmentgroup": "True",
         "boxpoints": "all",
         "customdata": [
          [
           1,
           "secondary",
           "unemployed",
           0,
           "yes"
          ],
          [
           5,
           "primary",
           "unemployed",
           0,
           "yes"
          ],
          [
           6,
           "tertiary",
           "unemployed",
           0,
           "yes"
          ],
          [
           12,
           "primary",
           "unemployed",
           0,
           "yes"
          ],
          [
           14,
           "none",
           "unemployed",
           0,
           "yes"
          ],
          [
           15,
           "primary",
           "unemployed",
           0,
           "yes"
          ],
          [
           22,
           "none",
           "unemployed",
           0,
           "yes"
          ],
          [
           23,
           "tertiary",
           "unemployed",
           0,
           "yes"
          ],
          [
           24,
           "none",
           "unemployed",
           0,
           "yes"
          ],
          [
           26,
           "secondary",
           "unemployed",
           0,
           "yes"
          ],
          [
           27,
           "primary",
           "unemployed",
           0,
           "yes"
          ],
          [
           35,
           "primary",
           "unemployed",
           0,
           "yes"
          ],
          [
           38,
           "primary",
           "unemployed",
           0,
           "yes"
          ],
          [
           42,
           "none",
           "unemployed",
           0,
           "yes"
          ],
          [
           47,
           "secondary",
           "unemployed",
           0,
           "yes"
          ],
          [
           48,
           "primary",
           "unemployed",
           0,
           "yes"
          ],
          [
           49,
           "primary",
           "unemployed",
           0,
           "yes"
          ],
          [
           50,
           "none",
           "unemployed",
           0,
           "yes"
          ],
          [
           51,
           "tertiary",
           "unemployed",
           0,
           "yes"
          ],
          [
           52,
           "primary",
           "unemployed",
           0,
           "yes"
          ],
          [
           53,
           "secondary",
           "unemployed",
           0,
           "yes"
          ],
          [
           56,
           "tertiary",
           "unemployed",
           0,
           "yes"
          ],
          [
           57,
           "primary",
           "unemployed",
           0,
           "yes"
          ],
          [
           59,
           "none",
           "unemployed",
           0,
           "yes"
          ],
          [
           60,
           "primary",
           "unemployed",
           0,
           "yes"
          ],
          [
           61,
           "primary",
           "unemployed",
           0,
           "yes"
          ],
          [
           64,
           "tertiary",
           "unemployed",
           0,
           "yes"
          ],
          [
           65,
           "secondary",
           "unemployed",
           0,
           "yes"
          ],
          [
           66,
           "primary",
           "unemployed",
           0,
           "yes"
          ],
          [
           67,
           "secondary",
           "unemployed",
           0,
           "yes"
          ],
          [
           69,
           "primary",
           "unemployed",
           0,
           "yes"
          ],
          [
           70,
           "primary",
           "unemployed",
           0,
           "yes"
          ],
          [
           72,
           "primary",
           "unemployed",
           0,
           "yes"
          ],
          [
           73,
           "primary",
           "unemployed",
           0,
           "yes"
          ],
          [
           74,
           "primary",
           "unemployed",
           0,
           "yes"
          ],
          [
           78,
           "primary",
           "unemployed",
           0,
           "yes"
          ],
          [
           79,
           "primary",
           "unemployed",
           0,
           "yes"
          ],
          [
           88,
           "primary",
           "unemployed",
           0,
           "yes"
          ],
          [
           101,
           "none",
           "unemployed",
           0,
           "yes"
          ],
          [
           104,
           "primary",
           "unemployed",
           0,
           "yes"
          ],
          [
           108,
           "primary",
           "unemployed",
           0,
           "yes"
          ],
          [
           124,
           "none",
           "unemployed",
           0,
           "yes"
          ],
          [
           135,
           "primary",
           "unemployed",
           0,
           "yes"
          ],
          [
           141,
           "none",
           "unemployed",
           0,
           "yes"
          ],
          [
           156,
           "none",
           "unemployed",
           0,
           "yes"
          ],
          [
           157,
           "primary",
           "unemployed",
           0,
           "yes"
          ],
          [
           169,
           "primary",
           "unemployed",
           0,
           "yes"
          ],
          [
           174,
           "primary",
           "unemployed",
           0,
           "yes"
          ],
          [
           175,
           "primary",
           "unemployed",
           0,
           "yes"
          ],
          [
           177,
           "primary",
           "unemployed",
           0,
           "yes"
          ],
          [
           178,
           "secondary",
           "unemployed",
           0,
           "yes"
          ],
          [
           180,
           "secondary",
           "unemployed",
           0,
           "yes"
          ],
          [
           181,
           "primary",
           "unemployed",
           0,
           "yes"
          ],
          [
           183,
           "primary",
           "unemployed",
           0,
           "yes"
          ],
          [
           184,
           "primary",
           "unemployed",
           0,
           "yes"
          ],
          [
           185,
           "secondary",
           "unemployed",
           0,
           "yes"
          ],
          [
           186,
           "primary",
           "unemployed",
           0,
           "yes"
          ],
          [
           188,
           "primary",
           "unemployed",
           0,
           "yes"
          ],
          [
           193,
           "primary",
           "unemployed",
           0,
           "yes"
          ],
          [
           196,
           "secondary",
           "unemployed",
           0,
           "yes"
          ],
          [
           201,
           "primary",
           "unemployed",
           0,
           "yes"
          ],
          [
           204,
           "tertiary",
           "unemployed",
           0,
           "yes"
          ],
          [
           209,
           "primary",
           "unemployed",
           0,
           "yes"
          ],
          [
           217,
           "primary",
           "unemployed",
           0,
           "yes"
          ],
          [
           218,
           "tertiary",
           "unemployed",
           0,
           "yes"
          ],
          [
           234,
           "primary",
           "unemployed",
           0,
           "yes"
          ],
          [
           236,
           "secondary",
           "unemployed",
           0,
           "yes"
          ],
          [
           244,
           "secondary",
           "unemployed",
           0,
           "yes"
          ],
          [
           246,
           "secondary",
           "unemployed",
           0,
           "yes"
          ],
          [
           250,
           "secondary",
           "unemployed",
           0,
           "yes"
          ],
          [
           254,
           "secondary",
           "unemployed",
           0,
           "yes"
          ],
          [
           260,
           "primary",
           "unemployed",
           0,
           "yes"
          ],
          [
           264,
           "secondary",
           "unemployed",
           0,
           "yes"
          ],
          [
           269,
           "primary",
           "unemployed",
           0,
           "yes"
          ],
          [
           273,
           "secondary",
           "semi employed",
           1200,
           "yes"
          ],
          [
           282,
           "secondary",
           "semi employed",
           2500,
           "yes"
          ],
          [
           284,
           "primary",
           "employed",
           2500,
           "yes"
          ],
          [
           291,
           "tertiary",
           "employed",
           3500,
           "yes"
          ],
          [
           299,
           "none",
           "semi employed",
           5000,
           "yes"
          ],
          [
           304,
           "secondary",
           "semi employed",
           5000,
           "yes"
          ],
          [
           305,
           "secondary",
           "employed",
           5000,
           "yes"
          ],
          [
           313,
           "primary",
           "employed",
           7000,
           "yes"
          ],
          [
           316,
           "primary",
           "semi employed",
           8000,
           "yes"
          ],
          [
           325,
           "primary",
           "employed",
           15000,
           "yes"
          ],
          [
           337,
           "tertiary",
           "employed",
           24000,
           "yes"
          ],
          [
           345,
           "primary",
           "unemployed",
           0,
           "yes"
          ]
         ],
         "fillcolor": "rgba(255,255,255,0)",
         "hoveron": "points",
         "hovertemplate": "Violence=%{customdata[4]}<br>Marital status=%{x}<br>Age=%{y}<br>SL. No=%{customdata[0]}<br>Education=%{customdata[1]}<br>Employment=%{customdata[2]}<br>Income=%{customdata[3]}<extra></extra>",
         "legendgroup": "yes",
         "line": {
          "color": "rgba(255,255,255,0)"
         },
         "marker": {
          "color": "#ef476f"
         },
         "name": "yes",
         "offsetgroup": "yes",
         "orientation": "v",
         "pointpos": 0,
         "showlegend": true,
         "type": "box",
         "x": [
          "married",
          "married",
          "unmarried",
          "married",
          "married",
          "married",
          "married",
          "married",
          "married",
          "married",
          "married",
          "married",
          "married",
          "married",
          "married",
          "married",
          "married",
          "married",
          "married",
          "married",
          "married",
          "married",
          "married",
          "married",
          "married",
          "married",
          "married",
          "married",
          "married",
          "married",
          "married",
          "married",
          "married",
          "married",
          "married",
          "married",
          "married",
          "married",
          "married",
          "married",
          "married",
          "married",
          "unmarried",
          "married",
          "married",
          "married",
          "married",
          "married",
          "married",
          "married",
          "married",
          "married",
          "married",
          "married",
          "married",
          "married",
          "married",
          "married",
          "married",
          "married",
          "married",
          "married",
          "married",
          "married",
          "married",
          "married",
          "married",
          "married",
          "married",
          "married",
          "unmarried",
          "married",
          "married",
          "married",
          "married",
          "married",
          "married",
          "married",
          "married",
          "married",
          "married",
          "married",
          "married",
          "married",
          "married",
          "married"
         ],
         "x0": " ",
         "xaxis": "x",
         "y": [
          30,
          50,
          21,
          45,
          40,
          50,
          50,
          40,
          35,
          23,
          24,
          50,
          30,
          50,
          26,
          40,
          50,
          43,
          35,
          40,
          40,
          37,
          33,
          42,
          33,
          30,
          22,
          19,
          25,
          30,
          27,
          24,
          35,
          50,
          47,
          40,
          54,
          39,
          35,
          46,
          18,
          55,
          15,
          19,
          50,
          45,
          47,
          35,
          40,
          20,
          26,
          33,
          21,
          23,
          25,
          30,
          23,
          25,
          20,
          29,
          46,
          29,
          25,
          24,
          32,
          42,
          28,
          31,
          28,
          31,
          23,
          43,
          23,
          32,
          22,
          27,
          46,
          50,
          45,
          22,
          28,
          39,
          48,
          25,
          43,
          27
         ],
         "y0": " ",
         "yaxis": "y"
        },
        {
         "alignmentgroup": "True",
         "boxpoints": "all",
         "customdata": [
          [
           2,
           "tertiary",
           "unemployed",
           0,
           "no"
          ],
          [
           3,
           "tertiary",
           "unemployed",
           0,
           "no"
          ],
          [
           4,
           "tertiary",
           "unemployed",
           0,
           "no"
          ],
          [
           7,
           "tertiary",
           "unemployed",
           0,
           "no"
          ],
          [
           8,
           "tertiary",
           "unemployed",
           0,
           "no"
          ],
          [
           9,
           "tertiary",
           "unemployed",
           0,
           "no"
          ],
          [
           10,
           "secondary",
           "unemployed",
           0,
           "no"
          ],
          [
           11,
           "primary",
           "unemployed",
           0,
           "no"
          ],
          [
           13,
           "none",
           "unemployed",
           0,
           "no"
          ],
          [
           16,
           "primary",
           "unemployed",
           0,
           "no"
          ],
          [
           17,
           "secondary",
           "unemployed",
           0,
           "no"
          ],
          [
           18,
           "secondary",
           "unemployed",
           0,
           "no"
          ],
          [
           19,
           "primary",
           "unemployed",
           0,
           "no"
          ],
          [
           20,
           "secondary",
           "unemployed",
           0,
           "no"
          ],
          [
           21,
           "primary",
           "unemployed",
           0,
           "no"
          ],
          [
           25,
           "primary",
           "unemployed",
           0,
           "no"
          ],
          [
           28,
           "secondary",
           "unemployed",
           0,
           "no"
          ],
          [
           29,
           "secondary",
           "unemployed",
           0,
           "no"
          ],
          [
           30,
           "secondary",
           "unemployed",
           0,
           "no"
          ],
          [
           31,
           "secondary",
           "unemployed",
           0,
           "no"
          ],
          [
           32,
           "secondary",
           "unemployed",
           0,
           "no"
          ],
          [
           33,
           "secondary",
           "unemployed",
           0,
           "no"
          ],
          [
           34,
           "secondary",
           "unemployed",
           0,
           "no"
          ],
          [
           36,
           "secondary",
           "unemployed",
           0,
           "no"
          ],
          [
           37,
           "secondary",
           "unemployed",
           0,
           "no"
          ],
          [
           39,
           "primary",
           "unemployed",
           0,
           "no"
          ],
          [
           40,
           "tertiary",
           "unemployed",
           0,
           "no"
          ],
          [
           41,
           "secondary",
           "unemployed",
           0,
           "no"
          ],
          [
           43,
           "secondary",
           "unemployed",
           0,
           "no"
          ],
          [
           44,
           "tertiary",
           "unemployed",
           0,
           "no"
          ],
          [
           45,
           "tertiary",
           "unemployed",
           0,
           "no"
          ],
          [
           46,
           "secondary",
           "unemployed",
           0,
           "no"
          ],
          [
           54,
           "secondary",
           "unemployed",
           0,
           "no"
          ],
          [
           55,
           "secondary",
           "unemployed",
           0,
           "no"
          ],
          [
           58,
           "secondary",
           "unemployed",
           0,
           "no"
          ],
          [
           62,
           "secondary",
           "unemployed",
           0,
           "no"
          ],
          [
           63,
           "secondary",
           "unemployed",
           0,
           "no"
          ],
          [
           68,
           "secondary",
           "unemployed",
           0,
           "no"
          ],
          [
           71,
           "primary",
           "unemployed",
           0,
           "no"
          ],
          [
           75,
           "secondary",
           "unemployed",
           0,
           "no"
          ],
          [
           76,
           "secondary",
           "unemployed",
           0,
           "no"
          ],
          [
           77,
           "tertiary",
           "unemployed",
           0,
           "no"
          ],
          [
           80,
           "primary",
           "unemployed",
           0,
           "no"
          ],
          [
           81,
           "none",
           "unemployed",
           0,
           "no"
          ],
          [
           82,
           "none",
           "unemployed",
           0,
           "no"
          ],
          [
           83,
           "primary",
           "unemployed",
           0,
           "no"
          ],
          [
           84,
           "none",
           "unemployed",
           0,
           "no"
          ],
          [
           85,
           "primary",
           "unemployed",
           0,
           "no"
          ],
          [
           86,
           "none",
           "unemployed",
           0,
           "no"
          ],
          [
           87,
           "none",
           "unemployed",
           0,
           "no"
          ],
          [
           89,
           "none",
           "unemployed",
           0,
           "no"
          ],
          [
           90,
           "secondary",
           "unemployed",
           0,
           "no"
          ],
          [
           91,
           "none",
           "unemployed",
           0,
           "no"
          ],
          [
           92,
           "primary",
           "unemployed",
           0,
           "no"
          ],
          [
           93,
           "none",
           "unemployed",
           0,
           "no"
          ],
          [
           94,
           "primary",
           "unemployed",
           0,
           "no"
          ],
          [
           95,
           "secondary",
           "unemployed",
           0,
           "no"
          ],
          [
           96,
           "none",
           "unemployed",
           0,
           "no"
          ],
          [
           97,
           "none",
           "unemployed",
           0,
           "no"
          ],
          [
           98,
           "primary",
           "unemployed",
           0,
           "no"
          ],
          [
           99,
           "primary",
           "unemployed",
           0,
           "no"
          ],
          [
           100,
           "none",
           "unemployed",
           0,
           "no"
          ],
          [
           102,
           "tertiary",
           "unemployed",
           0,
           "no"
          ],
          [
           103,
           "none",
           "unemployed",
           0,
           "no"
          ],
          [
           105,
           "secondary",
           "unemployed",
           0,
           "no"
          ],
          [
           106,
           "none",
           "unemployed",
           0,
           "no"
          ],
          [
           107,
           "primary",
           "unemployed",
           0,
           "no"
          ],
          [
           109,
           "tertiary",
           "unemployed",
           0,
           "no"
          ],
          [
           110,
           "secondary",
           "unemployed",
           0,
           "no"
          ],
          [
           111,
           "none",
           "unemployed",
           0,
           "no"
          ],
          [
           112,
           "none",
           "unemployed",
           0,
           "no"
          ],
          [
           113,
           "none",
           "unemployed",
           0,
           "no"
          ],
          [
           114,
           "secondary",
           "unemployed",
           0,
           "no"
          ],
          [
           115,
           "primary",
           "unemployed",
           0,
           "no"
          ],
          [
           116,
           "none",
           "unemployed",
           0,
           "no"
          ],
          [
           117,
           "primary",
           "unemployed",
           0,
           "no"
          ],
          [
           118,
           "secondary",
           "unemployed",
           0,
           "no"
          ],
          [
           119,
           "tertiary",
           "unemployed",
           0,
           "no"
          ],
          [
           120,
           "none",
           "unemployed",
           0,
           "no"
          ],
          [
           121,
           "none",
           "unemployed",
           0,
           "no"
          ],
          [
           122,
           "tertiary",
           "unemployed",
           0,
           "no"
          ],
          [
           123,
           "primary",
           "unemployed",
           0,
           "no"
          ],
          [
           125,
           "secondary",
           "unemployed",
           0,
           "no"
          ],
          [
           126,
           "secondary",
           "unemployed",
           0,
           "no"
          ],
          [
           127,
           "primary",
           "unemployed",
           0,
           "no"
          ],
          [
           128,
           "none",
           "unemployed",
           0,
           "no"
          ],
          [
           129,
           "none",
           "unemployed",
           0,
           "no"
          ],
          [
           130,
           "primary",
           "unemployed",
           0,
           "no"
          ],
          [
           131,
           "none",
           "unemployed",
           0,
           "no"
          ],
          [
           132,
           "primary",
           "unemployed",
           0,
           "no"
          ],
          [
           133,
           "none",
           "unemployed",
           0,
           "no"
          ],
          [
           134,
           "none",
           "unemployed",
           0,
           "no"
          ],
          [
           136,
           "secondary",
           "unemployed",
           0,
           "no"
          ],
          [
           137,
           "primary",
           "unemployed",
           0,
           "no"
          ],
          [
           138,
           "primary",
           "unemployed",
           0,
           "no"
          ],
          [
           139,
           "secondary",
           "unemployed",
           0,
           "no"
          ],
          [
           140,
           "primary",
           "unemployed",
           0,
           "no"
          ],
          [
           142,
           "none",
           "unemployed",
           0,
           "no"
          ],
          [
           143,
           "none",
           "unemployed",
           0,
           "no"
          ],
          [
           144,
           "primary",
           "unemployed",
           0,
           "no"
          ],
          [
           145,
           "secondary",
           "unemployed",
           0,
           "no"
          ],
          [
           146,
           "none",
           "unemployed",
           0,
           "no"
          ],
          [
           147,
           "none",
           "unemployed",
           0,
           "no"
          ],
          [
           148,
           "none",
           "unemployed",
           0,
           "no"
          ],
          [
           149,
           "secondary",
           "unemployed",
           0,
           "no"
          ],
          [
           150,
           "primary",
           "unemployed",
           0,
           "no"
          ],
          [
           151,
           "none",
           "unemployed",
           0,
           "no"
          ],
          [
           152,
           "primary",
           "unemployed",
           0,
           "no"
          ],
          [
           153,
           "tertiary",
           "unemployed",
           0,
           "no"
          ],
          [
           154,
           "none",
           "unemployed",
           0,
           "no"
          ],
          [
           155,
           "tertiary",
           "unemployed",
           0,
           "no"
          ],
          [
           158,
           "tertiary",
           "unemployed",
           0,
           "no"
          ],
          [
           159,
           "tertiary",
           "unemployed",
           0,
           "no"
          ],
          [
           160,
           "secondary",
           "unemployed",
           0,
           "no"
          ],
          [
           161,
           "secondary",
           "unemployed",
           0,
           "no"
          ],
          [
           162,
           "secondary",
           "unemployed",
           0,
           "no"
          ],
          [
           163,
           "primary",
           "unemployed",
           0,
           "no"
          ],
          [
           164,
           "primary",
           "unemployed",
           0,
           "no"
          ],
          [
           165,
           "primary",
           "unemployed",
           0,
           "no"
          ],
          [
           166,
           "primary",
           "unemployed",
           0,
           "no"
          ],
          [
           167,
           "primary",
           "unemployed",
           0,
           "no"
          ],
          [
           168,
           "primary",
           "unemployed",
           0,
           "no"
          ],
          [
           170,
           "primary",
           "unemployed",
           0,
           "no"
          ],
          [
           171,
           "primary",
           "unemployed",
           0,
           "no"
          ],
          [
           172,
           "primary",
           "unemployed",
           0,
           "no"
          ],
          [
           173,
           "tertiary",
           "unemployed",
           0,
           "no"
          ],
          [
           176,
           "secondary",
           "unemployed",
           0,
           "no"
          ],
          [
           179,
           "secondary",
           "unemployed",
           0,
           "no"
          ],
          [
           182,
           "primary",
           "unemployed",
           0,
           "no"
          ],
          [
           187,
           "primary",
           "unemployed",
           0,
           "no"
          ],
          [
           189,
           "primary",
           "unemployed",
           0,
           "no"
          ],
          [
           190,
           "tertiary",
           "unemployed",
           0,
           "no"
          ],
          [
           191,
           "primary",
           "unemployed",
           0,
           "no"
          ],
          [
           192,
           "secondary",
           "unemployed",
           0,
           "no"
          ],
          [
           194,
           "primary",
           "unemployed",
           0,
           "no"
          ],
          [
           195,
           "secondary",
           "unemployed",
           0,
           "no"
          ],
          [
           197,
           "secondary",
           "unemployed",
           0,
           "no"
          ],
          [
           198,
           "secondary",
           "unemployed",
           0,
           "no"
          ],
          [
           199,
           "secondary",
           "unemployed",
           0,
           "no"
          ],
          [
           200,
           "primary",
           "unemployed",
           0,
           "no"
          ],
          [
           202,
           "primary",
           "unemployed",
           0,
           "no"
          ],
          [
           203,
           "secondary",
           "unemployed",
           0,
           "no"
          ],
          [
           205,
           "secondary",
           "unemployed",
           0,
           "no"
          ],
          [
           206,
           "secondary",
           "unemployed",
           0,
           "no"
          ],
          [
           207,
           "secondary",
           "unemployed",
           0,
           "no"
          ],
          [
           208,
           "primary",
           "unemployed",
           0,
           "no"
          ],
          [
           210,
           "primary",
           "unemployed",
           0,
           "no"
          ],
          [
           211,
           "secondary",
           "unemployed",
           0,
           "no"
          ],
          [
           212,
           "primary",
           "unemployed",
           0,
           "no"
          ],
          [
           213,
           "primary",
           "unemployed",
           0,
           "no"
          ],
          [
           214,
           "primary",
           "unemployed",
           0,
           "no"
          ],
          [
           215,
           "secondary",
           "unemployed",
           0,
           "no"
          ],
          [
           216,
           "primary",
           "unemployed",
           0,
           "no"
          ],
          [
           219,
           "primary",
           "unemployed",
           0,
           "no"
          ],
          [
           220,
           "secondary",
           "unemployed",
           0,
           "no"
          ],
          [
           221,
           "secondary",
           "unemployed",
           0,
           "no"
          ],
          [
           222,
           "primary",
           "unemployed",
           0,
           "no"
          ],
          [
           223,
           "secondary",
           "unemployed",
           0,
           "no"
          ],
          [
           224,
           "primary",
           "unemployed",
           0,
           "no"
          ],
          [
           225,
           "primary",
           "unemployed",
           0,
           "no"
          ],
          [
           226,
           "primary",
           "unemployed",
           0,
           "no"
          ],
          [
           227,
           "secondary",
           "unemployed",
           0,
           "no"
          ],
          [
           228,
           "secondary",
           "unemployed",
           0,
           "no"
          ],
          [
           229,
           "secondary",
           "unemployed",
           0,
           "no"
          ],
          [
           230,
           "secondary",
           "unemployed",
           0,
           "no"
          ],
          [
           231,
           "primary",
           "unemployed",
           0,
           "no"
          ],
          [
           232,
           "secondary",
           "unemployed",
           0,
           "no"
          ],
          [
           233,
           "secondary",
           "unemployed",
           0,
           "no"
          ],
          [
           235,
           "primary",
           "unemployed",
           0,
           "no"
          ],
          [
           237,
           "secondary",
           "unemployed",
           0,
           "no"
          ],
          [
           238,
           "primary",
           "unemployed",
           0,
           "no"
          ],
          [
           239,
           "secondary",
           "unemployed",
           0,
           "no"
          ],
          [
           240,
           "secondary",
           "unemployed",
           0,
           "no"
          ],
          [
           241,
           "primary",
           "unemployed",
           0,
           "no"
          ],
          [
           242,
           "secondary",
           "unemployed",
           0,
           "no"
          ],
          [
           243,
           "primary",
           "unemployed",
           0,
           "no"
          ],
          [
           245,
           "secondary",
           "unemployed",
           0,
           "no"
          ],
          [
           247,
           "primary",
           "unemployed",
           0,
           "no"
          ],
          [
           248,
           "primary",
           "unemployed",
           0,
           "no"
          ],
          [
           249,
           "secondary",
           "unemployed",
           0,
           "no"
          ],
          [
           251,
           "primary",
           "unemployed",
           0,
           "no"
          ],
          [
           252,
           "secondary",
           "unemployed",
           0,
           "no"
          ],
          [
           253,
           "primary",
           "unemployed",
           0,
           "no"
          ],
          [
           255,
           "primary",
           "unemployed",
           0,
           "no"
          ],
          [
           256,
           "primary",
           "unemployed",
           0,
           "no"
          ],
          [
           257,
           "secondary",
           "unemployed",
           0,
           "no"
          ],
          [
           258,
           "secondary",
           "unemployed",
           0,
           "no"
          ],
          [
           259,
           "primary",
           "unemployed",
           0,
           "no"
          ],
          [
           261,
           "primary",
           "unemployed",
           0,
           "no"
          ],
          [
           262,
           "secondary",
           "unemployed",
           0,
           "no"
          ],
          [
           263,
           "secondary",
           "unemployed",
           0,
           "no"
          ],
          [
           265,
           "primary",
           "unemployed",
           0,
           "no"
          ],
          [
           266,
           "primary",
           "unemployed",
           0,
           "no"
          ],
          [
           267,
           "primary",
           "unemployed",
           0,
           "no"
          ],
          [
           268,
           "secondary",
           "unemployed",
           0,
           "no"
          ],
          [
           270,
           "primary",
           "unemployed",
           8,
           "no"
          ],
          [
           271,
           "secondary",
           "semi employed",
           1000,
           "no"
          ],
          [
           272,
           "none",
           "unemployed",
           1000,
           "no"
          ],
          [
           274,
           "primary",
           "semi employed",
           1500,
           "no"
          ],
          [
           275,
           "primary",
           "semi employed",
           2000,
           "no"
          ],
          [
           276,
           "secondary",
           "semi employed",
           2000,
           "no"
          ],
          [
           277,
           "primary",
           "semi employed",
           2000,
           "no"
          ],
          [
           278,
           "primary",
           "semi employed",
           2000,
           "no"
          ],
          [
           279,
           "secondary",
           "employed",
           2000,
           "no"
          ],
          [
           280,
           "primary",
           "semi employed",
           2200,
           "no"
          ],
          [
           281,
           "none",
           "semi employed",
           2500,
           "no"
          ],
          [
           283,
           "primary",
           "semi employed",
           2500,
           "no"
          ],
          [
           285,
           "tertiary",
           "semi employed",
           3000,
           "no"
          ],
          [
           286,
           "primary",
           "semi employed",
           3000,
           "no"
          ],
          [
           287,
           "secondary",
           "semi employed",
           3000,
           "no"
          ],
          [
           288,
           "secondary",
           "semi employed",
           3000,
           "no"
          ],
          [
           289,
           "primary",
           "semi employed",
           3000,
           "no"
          ],
          [
           290,
           "secondary",
           "semi employed",
           3000,
           "no"
          ],
          [
           292,
           "secondary",
           "semi employed",
           3500,
           "no"
          ],
          [
           293,
           "primary",
           "semi employed",
           3500,
           "no"
          ],
          [
           294,
           "secondary",
           "semi employed",
           4000,
           "no"
          ],
          [
           295,
           "secondary",
           "semi employed",
           4000,
           "no"
          ],
          [
           296,
           "secondary",
           "semi employed",
           4000,
           "no"
          ],
          [
           297,
           "primary",
           "semi employed",
           4000,
           "no"
          ],
          [
           298,
           "primary",
           "employed",
           5000,
           "no"
          ],
          [
           300,
           "secondary",
           "semi employed",
           5000,
           "no"
          ],
          [
           301,
           "none",
           "semi employed",
           5000,
           "no"
          ],
          [
           302,
           "secondary",
           "semi employed",
           5000,
           "no"
          ],
          [
           303,
           "tertiary",
           "semi employed",
           5000,
           "no"
          ],
          [
           306,
           "none",
           "semi employed",
           5500,
           "no"
          ],
          [
           307,
           "none",
           "semi employed",
           5500,
           "no"
          ],
          [
           308,
           "none",
           "semi employed",
           6000,
           "no"
          ],
          [
           309,
           "tertiary",
           "semi employed",
           6000,
           "no"
          ],
          [
           310,
           "tertiary",
           "semi employed",
           6000,
           "no"
          ],
          [
           311,
           "secondary",
           "semi employed",
           6000,
           "no"
          ],
          [
           312,
           "secondary",
           "semi employed",
           7000,
           "no"
          ],
          [
           314,
           "tertiary",
           "semi employed",
           8000,
           "no"
          ],
          [
           315,
           "none",
           "semi employed",
           8000,
           "no"
          ],
          [
           317,
           "primary",
           "semi employed",
           9000,
           "no"
          ],
          [
           318,
           "tertiary",
           "semi employed",
           10000,
           "no"
          ],
          [
           319,
           "none",
           "semi employed",
           10000,
           "no"
          ],
          [
           320,
           "primary",
           "semi employed",
           10000,
           "no"
          ],
          [
           321,
           "secondary",
           "employed",
           10000,
           "no"
          ],
          [
           322,
           "tertiary",
           "employed",
           12000,
           "no"
          ],
          [
           323,
           "secondary",
           "semi employed",
           12000,
           "no"
          ],
          [
           324,
           "none",
           "semi employed",
           15000,
           "no"
          ],
          [
           326,
           "secondary",
           "employed",
           15000,
           "no"
          ],
          [
           327,
           "primary",
           "employed",
           15000,
           "no"
          ],
          [
           328,
           "secondary",
           "semi employed",
           18000,
           "no"
          ],
          [
           329,
           "secondary",
           "employed",
           20000,
           "no"
          ],
          [
           330,
           "tertiary",
           "employed",
           22000,
           "no"
          ],
          [
           331,
           "tertiary",
           "employed",
           22000,
           "no"
          ],
          [
           332,
           "tertiary",
           "employed",
           22000,
           "no"
          ],
          [
           333,
           "tertiary",
           "employed",
           22000,
           "no"
          ],
          [
           334,
           "tertiary",
           "employed",
           22000,
           "no"
          ],
          [
           335,
           "tertiary",
           "employed",
           24000,
           "no"
          ],
          [
           336,
           "tertiary",
           "employed",
           24000,
           "no"
          ],
          [
           338,
           "tertiary",
           "employed",
           25000,
           "no"
          ],
          [
           339,
           "tertiary",
           "employed",
           25000,
           "no"
          ],
          [
           340,
           "secondary",
           "employed",
           25000,
           "no"
          ],
          [
           341,
           "tertiary",
           "employed",
           27000,
           "no"
          ],
          [
           342,
           "tertiary",
           "employed",
           28000,
           "no"
          ],
          [
           343,
           "tertiary",
           "semi employed",
           30000,
           "no"
          ],
          [
           344,
           "tertiary",
           "employed",
           35000,
           "no"
          ],
          [
           346,
           "primary",
           "unemployed",
           0,
           "no"
          ],
          [
           347,
           "secondary",
           "unemployed",
           0,
           "no"
          ]
         ],
         "fillcolor": "rgba(255,255,255,0)",
         "hoveron": "points",
         "hovertemplate": "Violence=%{customdata[4]}<br>Marital status=%{x}<br>Age=%{y}<br>SL. No=%{customdata[0]}<br>Education=%{customdata[1]}<br>Employment=%{customdata[2]}<br>Income=%{customdata[3]}<extra></extra>",
         "legendgroup": "no",
         "line": {
          "color": "rgba(255,255,255,0)"
         },
         "marker": {
          "color": "#4361ee"
         },
         "name": "no",
         "offsetgroup": "no",
         "orientation": "v",
         "pointpos": 0,
         "showlegend": true,
         "type": "box",
         "x": [
          "married",
          "unmarried",
          "unmarried",
          "married",
          "married",
          "unmarried",
          "married",
          "married",
          "married",
          "married",
          "unmarried",
          "unmarried",
          "married",
          "married",
          "married",
          "married",
          "unmarried",
          "married",
          "married",
          "married",
          "married",
          "married",
          "married",
          "married",
          "unmarried",
          "married",
          "unmarried",
          "unmarried",
          "unmarried",
          "unmarried",
          "unmarried",
          "married",
          "married",
          "married",
          "married",
          "married",
          "married",
          "married",
          "married",
          "married",
          "married",
          "married",
          "married",
          "married",
          "married",
          "married",
          "married",
          "married",
          "married",
          "married",
          "married",
          "unmarried",
          "married",
          "married",
          "married",
          "unmarried",
          "married",
          "married",
          "married",
          "married",
          "married",
          "married",
          "married",
          "married",
          "married",
          "married",
          "married",
          "married",
          "unmarried",
          "married",
          "married",
          "married",
          "unmarried",
          "married",
          "married",
          "married",
          "married",
          "unmarried",
          "married",
          "married",
          "married",
          "married",
          "unmarried",
          "unmarried",
          "married",
          "married",
          "married",
          "married",
          "married",
          "married",
          "married",
          "married",
          "married",
          "married",
          "married",
          "unmarried",
          "married",
          "married",
          "married",
          "married",
          "married",
          "married",
          "married",
          "married",
          "unmarried",
          "married",
          "married",
          "married",
          "married",
          "married",
          "unmarried",
          "married",
          "married",
          "married",
          "married",
          "married",
          "married",
          "married",
          "married",
          "married",
          "married",
          "married",
          "married",
          "married",
          "married",
          "unmarried",
          "married",
          "married",
          "married",
          "married",
          "married",
          "married",
          "married",
          "married",
          "married",
          "unmarried",
          "married",
          "married",
          "married",
          "married",
          "married",
          "married",
          "married",
          "married",
          "married",
          "married",
          "married",
          "married",
          "married",
          "married",
          "married",
          "married",
          "married",
          "married",
          "married",
          "married",
          "married",
          "unmarried",
          "married",
          "married",
          "married",
          "married",
          "married",
          "married",
          "unmarried",
          "married",
          "married",
          "married",
          "married",
          "unmarried",
          "unmarried",
          "married",
          "married",
          "married",
          "married",
          "married",
          "unmarried",
          "married",
          "married",
          "married",
          "married",
          "married",
          "married",
          "married",
          "married",
          "married",
          "married",
          "married",
          "married",
          "unmarried",
          "married",
          "married",
          "married",
          "married",
          "unmarried",
          "married",
          "unmarried",
          "married",
          "married",
          "married",
          "unmarried",
          "married",
          "married",
          "unmarried",
          "married",
          "married",
          "married",
          "unmarried",
          "married",
          "unmarried",
          "unmarried",
          "married",
          "married",
          "married",
          "married",
          "married",
          "married",
          "unmarried",
          "married",
          "married",
          "unmarried",
          "married",
          "unmarried",
          "unmarried",
          "married",
          "married",
          "married",
          "married",
          "married",
          "married",
          "married",
          "unmarried",
          "married",
          "married",
          "married",
          "married",
          "married",
          "unmarried",
          "married",
          "married",
          "married",
          "married",
          "married",
          "married",
          "married",
          "married",
          "married",
          "married",
          "married",
          "married",
          "married",
          "married",
          "married",
          "married",
          "married",
          "married",
          "married",
          "unmarried",
          "married",
          "married",
          "married"
         ],
         "x0": " ",
         "xaxis": "x",
         "y": [
          47,
          24,
          22,
          30,
          27,
          20,
          18,
          40,
          45,
          43,
          18,
          15,
          44,
          35,
          40,
          44,
          19,
          27,
          20,
          18,
          23,
          19,
          19,
          25,
          19,
          24,
          23,
          20,
          21,
          32,
          30,
          25,
          25,
          23,
          23,
          33,
          23,
          40,
          30,
          20,
          23,
          30,
          33,
          40,
          35,
          22,
          34,
          45,
          27,
          45,
          37,
          21,
          29,
          23,
          51,
          33,
          25,
          26,
          50,
          29,
          28,
          18,
          34,
          25,
          19,
          40,
          22,
          30,
          21,
          55,
          32,
          35,
          18,
          35,
          36,
          50,
          30,
          24,
          47,
          30,
          30,
          35,
          19,
          19,
          38,
          25,
          35,
          30,
          24,
          20,
          40,
          56,
          26,
          60,
          44,
          17,
          45,
          43,
          22,
          44,
          30,
          39,
          40,
          42,
          18,
          30,
          25,
          51,
          23,
          33,
          25,
          30,
          26,
          35,
          32,
          26,
          23,
          20,
          22,
          19,
          35,
          25,
          44,
          33,
          28,
          19,
          29,
          24,
          22,
          28,
          30,
          29,
          44,
          23,
          21,
          19,
          26,
          44,
          22,
          34,
          38,
          33,
          34,
          26,
          33,
          44,
          36,
          22,
          28,
          46,
          42,
          33,
          21,
          33,
          25,
          25,
          29,
          21,
          36,
          44,
          31,
          30,
          27,
          20,
          24,
          33,
          22,
          24,
          38,
          22,
          21,
          23,
          34,
          36,
          25,
          45,
          22,
          36,
          41,
          20,
          36,
          31,
          47,
          36,
          38,
          28,
          29,
          31,
          44,
          21,
          20,
          36,
          42,
          33,
          23,
          50,
          19,
          45,
          33,
          30,
          18,
          25,
          22,
          24,
          29,
          23,
          26,
          20,
          27,
          21,
          25,
          27,
          19,
          26,
          25,
          30,
          48,
          21,
          43,
          50,
          20,
          27,
          29,
          23,
          42,
          45,
          25,
          31,
          28,
          22,
          27,
          26,
          45,
          44,
          27,
          40,
          30,
          18,
          28,
          30,
          35,
          23,
          26,
          26,
          22,
          43,
          37,
          35,
          30,
          30,
          42,
          40,
          40,
          26,
          29,
          45,
          45,
          27,
          26,
          29,
          24
         ],
         "y0": " ",
         "yaxis": "y"
        }
       ],
       "layout": {
        "boxmode": "group",
        "font": {
         "family": "cursive",
         "size": 12
        },
        "height": 600,
        "legend": {
         "title": {
          "text": "Violence"
         },
         "tracegroupgap": 0
        },
        "plot_bgcolor": "white",
        "template": {
         "data": {
          "bar": [
           {
            "error_x": {
             "color": "#2a3f5f"
            },
            "error_y": {
             "color": "#2a3f5f"
            },
            "marker": {
             "line": {
              "color": "#E5ECF6",
              "width": 0.5
             },
             "pattern": {
              "fillmode": "overlay",
              "size": 10,
              "solidity": 0.2
             }
            },
            "type": "bar"
           }
          ],
          "barpolar": [
           {
            "marker": {
             "line": {
              "color": "#E5ECF6",
              "width": 0.5
             },
             "pattern": {
              "fillmode": "overlay",
              "size": 10,
              "solidity": 0.2
             }
            },
            "type": "barpolar"
           }
          ],
          "carpet": [
           {
            "aaxis": {
             "endlinecolor": "#2a3f5f",
             "gridcolor": "white",
             "linecolor": "white",
             "minorgridcolor": "white",
             "startlinecolor": "#2a3f5f"
            },
            "baxis": {
             "endlinecolor": "#2a3f5f",
             "gridcolor": "white",
             "linecolor": "white",
             "minorgridcolor": "white",
             "startlinecolor": "#2a3f5f"
            },
            "type": "carpet"
           }
          ],
          "choropleth": [
           {
            "colorbar": {
             "outlinewidth": 0,
             "ticks": ""
            },
            "type": "choropleth"
           }
          ],
          "contour": [
           {
            "colorbar": {
             "outlinewidth": 0,
             "ticks": ""
            },
            "colorscale": [
             [
              0,
              "#0d0887"
             ],
             [
              0.1111111111111111,
              "#46039f"
             ],
             [
              0.2222222222222222,
              "#7201a8"
             ],
             [
              0.3333333333333333,
              "#9c179e"
             ],
             [
              0.4444444444444444,
              "#bd3786"
             ],
             [
              0.5555555555555556,
              "#d8576b"
             ],
             [
              0.6666666666666666,
              "#ed7953"
             ],
             [
              0.7777777777777778,
              "#fb9f3a"
             ],
             [
              0.8888888888888888,
              "#fdca26"
             ],
             [
              1,
              "#f0f921"
             ]
            ],
            "type": "contour"
           }
          ],
          "contourcarpet": [
           {
            "colorbar": {
             "outlinewidth": 0,
             "ticks": ""
            },
            "type": "contourcarpet"
           }
          ],
          "heatmap": [
           {
            "colorbar": {
             "outlinewidth": 0,
             "ticks": ""
            },
            "colorscale": [
             [
              0,
              "#0d0887"
             ],
             [
              0.1111111111111111,
              "#46039f"
             ],
             [
              0.2222222222222222,
              "#7201a8"
             ],
             [
              0.3333333333333333,
              "#9c179e"
             ],
             [
              0.4444444444444444,
              "#bd3786"
             ],
             [
              0.5555555555555556,
              "#d8576b"
             ],
             [
              0.6666666666666666,
              "#ed7953"
             ],
             [
              0.7777777777777778,
              "#fb9f3a"
             ],
             [
              0.8888888888888888,
              "#fdca26"
             ],
             [
              1,
              "#f0f921"
             ]
            ],
            "type": "heatmap"
           }
          ],
          "heatmapgl": [
           {
            "colorbar": {
             "outlinewidth": 0,
             "ticks": ""
            },
            "colorscale": [
             [
              0,
              "#0d0887"
             ],
             [
              0.1111111111111111,
              "#46039f"
             ],
             [
              0.2222222222222222,
              "#7201a8"
             ],
             [
              0.3333333333333333,
              "#9c179e"
             ],
             [
              0.4444444444444444,
              "#bd3786"
             ],
             [
              0.5555555555555556,
              "#d8576b"
             ],
             [
              0.6666666666666666,
              "#ed7953"
             ],
             [
              0.7777777777777778,
              "#fb9f3a"
             ],
             [
              0.8888888888888888,
              "#fdca26"
             ],
             [
              1,
              "#f0f921"
             ]
            ],
            "type": "heatmapgl"
           }
          ],
          "histogram": [
           {
            "marker": {
             "pattern": {
              "fillmode": "overlay",
              "size": 10,
              "solidity": 0.2
             }
            },
            "type": "histogram"
           }
          ],
          "histogram2d": [
           {
            "colorbar": {
             "outlinewidth": 0,
             "ticks": ""
            },
            "colorscale": [
             [
              0,
              "#0d0887"
             ],
             [
              0.1111111111111111,
              "#46039f"
             ],
             [
              0.2222222222222222,
              "#7201a8"
             ],
             [
              0.3333333333333333,
              "#9c179e"
             ],
             [
              0.4444444444444444,
              "#bd3786"
             ],
             [
              0.5555555555555556,
              "#d8576b"
             ],
             [
              0.6666666666666666,
              "#ed7953"
             ],
             [
              0.7777777777777778,
              "#fb9f3a"
             ],
             [
              0.8888888888888888,
              "#fdca26"
             ],
             [
              1,
              "#f0f921"
             ]
            ],
            "type": "histogram2d"
           }
          ],
          "histogram2dcontour": [
           {
            "colorbar": {
             "outlinewidth": 0,
             "ticks": ""
            },
            "colorscale": [
             [
              0,
              "#0d0887"
             ],
             [
              0.1111111111111111,
              "#46039f"
             ],
             [
              0.2222222222222222,
              "#7201a8"
             ],
             [
              0.3333333333333333,
              "#9c179e"
             ],
             [
              0.4444444444444444,
              "#bd3786"
             ],
             [
              0.5555555555555556,
              "#d8576b"
             ],
             [
              0.6666666666666666,
              "#ed7953"
             ],
             [
              0.7777777777777778,
              "#fb9f3a"
             ],
             [
              0.8888888888888888,
              "#fdca26"
             ],
             [
              1,
              "#f0f921"
             ]
            ],
            "type": "histogram2dcontour"
           }
          ],
          "mesh3d": [
           {
            "colorbar": {
             "outlinewidth": 0,
             "ticks": ""
            },
            "type": "mesh3d"
           }
          ],
          "parcoords": [
           {
            "line": {
             "colorbar": {
              "outlinewidth": 0,
              "ticks": ""
             }
            },
            "type": "parcoords"
           }
          ],
          "pie": [
           {
            "automargin": true,
            "type": "pie"
           }
          ],
          "scatter": [
           {
            "fillpattern": {
             "fillmode": "overlay",
             "size": 10,
             "solidity": 0.2
            },
            "type": "scatter"
           }
          ],
          "scatter3d": [
           {
            "line": {
             "colorbar": {
              "outlinewidth": 0,
              "ticks": ""
             }
            },
            "marker": {
             "colorbar": {
              "outlinewidth": 0,
              "ticks": ""
             }
            },
            "type": "scatter3d"
           }
          ],
          "scattercarpet": [
           {
            "marker": {
             "colorbar": {
              "outlinewidth": 0,
              "ticks": ""
             }
            },
            "type": "scattercarpet"
           }
          ],
          "scattergeo": [
           {
            "marker": {
             "colorbar": {
              "outlinewidth": 0,
              "ticks": ""
             }
            },
            "type": "scattergeo"
           }
          ],
          "scattergl": [
           {
            "marker": {
             "colorbar": {
              "outlinewidth": 0,
              "ticks": ""
             }
            },
            "type": "scattergl"
           }
          ],
          "scattermapbox": [
           {
            "marker": {
             "colorbar": {
              "outlinewidth": 0,
              "ticks": ""
             }
            },
            "type": "scattermapbox"
           }
          ],
          "scatterpolar": [
           {
            "marker": {
             "colorbar": {
              "outlinewidth": 0,
              "ticks": ""
             }
            },
            "type": "scatterpolar"
           }
          ],
          "scatterpolargl": [
           {
            "marker": {
             "colorbar": {
              "outlinewidth": 0,
              "ticks": ""
             }
            },
            "type": "scatterpolargl"
           }
          ],
          "scatterternary": [
           {
            "marker": {
             "colorbar": {
              "outlinewidth": 0,
              "ticks": ""
             }
            },
            "type": "scatterternary"
           }
          ],
          "surface": [
           {
            "colorbar": {
             "outlinewidth": 0,
             "ticks": ""
            },
            "colorscale": [
             [
              0,
              "#0d0887"
             ],
             [
              0.1111111111111111,
              "#46039f"
             ],
             [
              0.2222222222222222,
              "#7201a8"
             ],
             [
              0.3333333333333333,
              "#9c179e"
             ],
             [
              0.4444444444444444,
              "#bd3786"
             ],
             [
              0.5555555555555556,
              "#d8576b"
             ],
             [
              0.6666666666666666,
              "#ed7953"
             ],
             [
              0.7777777777777778,
              "#fb9f3a"
             ],
             [
              0.8888888888888888,
              "#fdca26"
             ],
             [
              1,
              "#f0f921"
             ]
            ],
            "type": "surface"
           }
          ],
          "table": [
           {
            "cells": {
             "fill": {
              "color": "#EBF0F8"
             },
             "line": {
              "color": "white"
             }
            },
            "header": {
             "fill": {
              "color": "#C8D4E3"
             },
             "line": {
              "color": "white"
             }
            },
            "type": "table"
           }
          ]
         },
         "layout": {
          "annotationdefaults": {
           "arrowcolor": "#2a3f5f",
           "arrowhead": 0,
           "arrowwidth": 1
          },
          "autotypenumbers": "strict",
          "coloraxis": {
           "colorbar": {
            "outlinewidth": 0,
            "ticks": ""
           }
          },
          "colorscale": {
           "diverging": [
            [
             0,
             "#8e0152"
            ],
            [
             0.1,
             "#c51b7d"
            ],
            [
             0.2,
             "#de77ae"
            ],
            [
             0.3,
             "#f1b6da"
            ],
            [
             0.4,
             "#fde0ef"
            ],
            [
             0.5,
             "#f7f7f7"
            ],
            [
             0.6,
             "#e6f5d0"
            ],
            [
             0.7,
             "#b8e186"
            ],
            [
             0.8,
             "#7fbc41"
            ],
            [
             0.9,
             "#4d9221"
            ],
            [
             1,
             "#276419"
            ]
           ],
           "sequential": [
            [
             0,
             "#0d0887"
            ],
            [
             0.1111111111111111,
             "#46039f"
            ],
            [
             0.2222222222222222,
             "#7201a8"
            ],
            [
             0.3333333333333333,
             "#9c179e"
            ],
            [
             0.4444444444444444,
             "#bd3786"
            ],
            [
             0.5555555555555556,
             "#d8576b"
            ],
            [
             0.6666666666666666,
             "#ed7953"
            ],
            [
             0.7777777777777778,
             "#fb9f3a"
            ],
            [
             0.8888888888888888,
             "#fdca26"
            ],
            [
             1,
             "#f0f921"
            ]
           ],
           "sequentialminus": [
            [
             0,
             "#0d0887"
            ],
            [
             0.1111111111111111,
             "#46039f"
            ],
            [
             0.2222222222222222,
             "#7201a8"
            ],
            [
             0.3333333333333333,
             "#9c179e"
            ],
            [
             0.4444444444444444,
             "#bd3786"
            ],
            [
             0.5555555555555556,
             "#d8576b"
            ],
            [
             0.6666666666666666,
             "#ed7953"
            ],
            [
             0.7777777777777778,
             "#fb9f3a"
            ],
            [
             0.8888888888888888,
             "#fdca26"
            ],
            [
             1,
             "#f0f921"
            ]
           ]
          },
          "colorway": [
           "#636efa",
           "#EF553B",
           "#00cc96",
           "#ab63fa",
           "#FFA15A",
           "#19d3f3",
           "#FF6692",
           "#B6E880",
           "#FF97FF",
           "#FECB52"
          ],
          "font": {
           "color": "#2a3f5f"
          },
          "geo": {
           "bgcolor": "white",
           "lakecolor": "white",
           "landcolor": "#E5ECF6",
           "showlakes": true,
           "showland": true,
           "subunitcolor": "white"
          },
          "hoverlabel": {
           "align": "left"
          },
          "hovermode": "closest",
          "mapbox": {
           "style": "light"
          },
          "paper_bgcolor": "white",
          "plot_bgcolor": "#E5ECF6",
          "polar": {
           "angularaxis": {
            "gridcolor": "white",
            "linecolor": "white",
            "ticks": ""
           },
           "bgcolor": "#E5ECF6",
           "radialaxis": {
            "gridcolor": "white",
            "linecolor": "white",
            "ticks": ""
           }
          },
          "scene": {
           "xaxis": {
            "backgroundcolor": "#E5ECF6",
            "gridcolor": "white",
            "gridwidth": 2,
            "linecolor": "white",
            "showbackground": true,
            "ticks": "",
            "zerolinecolor": "white"
           },
           "yaxis": {
            "backgroundcolor": "#E5ECF6",
            "gridcolor": "white",
            "gridwidth": 2,
            "linecolor": "white",
            "showbackground": true,
            "ticks": "",
            "zerolinecolor": "white"
           },
           "zaxis": {
            "backgroundcolor": "#E5ECF6",
            "gridcolor": "white",
            "gridwidth": 2,
            "linecolor": "white",
            "showbackground": true,
            "ticks": "",
            "zerolinecolor": "white"
           }
          },
          "shapedefaults": {
           "line": {
            "color": "#2a3f5f"
           }
          },
          "ternary": {
           "aaxis": {
            "gridcolor": "white",
            "linecolor": "white",
            "ticks": ""
           },
           "baxis": {
            "gridcolor": "white",
            "linecolor": "white",
            "ticks": ""
           },
           "bgcolor": "#E5ECF6",
           "caxis": {
            "gridcolor": "white",
            "linecolor": "white",
            "ticks": ""
           }
          },
          "title": {
           "x": 0.05
          },
          "xaxis": {
           "automargin": true,
           "gridcolor": "white",
           "linecolor": "white",
           "ticks": "",
           "title": {
            "standoff": 15
           },
           "zerolinecolor": "white",
           "zerolinewidth": 2
          },
          "yaxis": {
           "automargin": true,
           "gridcolor": "white",
           "linecolor": "white",
           "ticks": "",
           "title": {
            "standoff": 15
           },
           "zerolinecolor": "white",
           "zerolinewidth": 2
          }
         }
        },
        "title": {
         "text": "Dot Plot of Age vs. Marital Status with Violence",
         "x": 0.5
        },
        "width": 800,
        "xaxis": {
         "anchor": "y",
         "categoryarray": [
          "married",
          "unmarried"
         ],
         "categoryorder": "array",
         "domain": [
          0,
          1
         ],
         "linecolor": "black",
         "linewidth": 2,
         "showline": true,
         "title": {
          "text": "Marital Status"
         }
        },
        "yaxis": {
         "anchor": "x",
         "domain": [
          0,
          1
         ],
         "linecolor": "black",
         "linewidth": 2,
         "showline": true,
         "title": {
          "text": "Age"
         }
        }
       }
      }
     },
     "metadata": {},
     "output_type": "display_data"
    }
   ],
   "source": [
    "import plotly.express as px\n",
    "\n",
    "custom_color_sequence = ['#ef476f', '#4361ee']\n",
    "\n",
    "fig_dot = px.strip(df, x='Marital status', y='Age', color='Violence',\n",
    "                   category_orders={'Marital status': ['married', 'unmarried']},\n",
    "                   color_discrete_sequence=custom_color_sequence,\n",
    "                   title='Dot Plot of Age vs. Marital Status with Violence',\n",
    "                   hover_data=df.columns\n",
    "                   )\n",
    "\n",
    "fig_dot.update_layout(\n",
    "    xaxis=dict(title='Marital Status', showline=True, linewidth=2, linecolor='black'),\n",
    "    yaxis=dict(title='Age', showline=True, linewidth=2, linecolor='black'),\n",
    "    legend_title='Violence',\n",
    "    font=dict(family=\"cursive\", size=12),\n",
    "    plot_bgcolor='white',\n",
    "    width=800,\n",
    "    height=600,\n",
    "    title_x=0.5\n",
    ")\n",
    "\n",
    "fig_dot.show()"
   ]
  },
  {
   "cell_type": "code",
   "execution_count": 21,
   "metadata": {},
   "outputs": [
    {
     "name": "stderr",
     "output_type": "stream",
     "text": [
      "<ipython-input-21-c1816bf98aff>:19: SettingWithCopyWarning:\n",
      "\n",
      "\n",
      "A value is trying to be set on a copy of a slice from a DataFrame.\n",
      "Try using .loc[row_indexer,col_indexer] = value instead\n",
      "\n",
      "See the caveats in the documentation: https://pandas.pydata.org/pandas-docs/stable/user_guide/indexing.html#returning-a-view-versus-a-copy\n",
      "\n",
      "<ipython-input-21-c1816bf98aff>:20: SettingWithCopyWarning:\n",
      "\n",
      "\n",
      "A value is trying to be set on a copy of a slice from a DataFrame.\n",
      "Try using .loc[row_indexer,col_indexer] = value instead\n",
      "\n",
      "See the caveats in the documentation: https://pandas.pydata.org/pandas-docs/stable/user_guide/indexing.html#returning-a-view-versus-a-copy\n",
      "\n",
      "<ipython-input-21-c1816bf98aff>:19: SettingWithCopyWarning:\n",
      "\n",
      "\n",
      "A value is trying to be set on a copy of a slice from a DataFrame.\n",
      "Try using .loc[row_indexer,col_indexer] = value instead\n",
      "\n",
      "See the caveats in the documentation: https://pandas.pydata.org/pandas-docs/stable/user_guide/indexing.html#returning-a-view-versus-a-copy\n",
      "\n",
      "<ipython-input-21-c1816bf98aff>:20: SettingWithCopyWarning:\n",
      "\n",
      "\n",
      "A value is trying to be set on a copy of a slice from a DataFrame.\n",
      "Try using .loc[row_indexer,col_indexer] = value instead\n",
      "\n",
      "See the caveats in the documentation: https://pandas.pydata.org/pandas-docs/stable/user_guide/indexing.html#returning-a-view-versus-a-copy\n",
      "\n"
     ]
    },
    {
     "data": {
      "application/vnd.plotly.v1+json": {
       "config": {
        "plotlyServerURL": "https://plot.ly"
       },
       "data": [
        {
         "colorscale": [
          [
           0,
           "#fcfcfc"
          ],
          [
           1,
           "#fc2f00"
          ]
         ],
         "showscale": false,
         "type": "heatmap",
         "x": [
          "0",
          "1-5k",
          "5k-10k",
          "10k-20k",
          "20k-30k",
          "30k+"
         ],
         "xaxis": "x",
         "y": [
          "0-20",
          "21-30",
          "31-40",
          "41-50",
          "51-60"
         ],
         "yaxis": "y",
         "z": [
          [
           6,
           0,
           0,
           0,
           0,
           0
          ],
          [
           28,
           4,
           0,
           1,
           0,
           0
          ],
          [
           21,
           0,
           1,
           0,
           0,
           0
          ],
          [
           18,
           3,
           1,
           0,
           1,
           0
          ],
          [
           2,
           0,
           0,
           0,
           0,
           0
          ]
         ]
        },
        {
         "colorscale": [
          [
           0,
           "#fcfcfc"
          ],
          [
           1,
           "#c200fb"
          ]
         ],
         "showscale": false,
         "type": "heatmap",
         "x": [
          "0",
          "1-5k",
          "5k-10k",
          "10k-20k",
          "20k-30k",
          "30k+"
         ],
         "xaxis": "x2",
         "y": [
          "0-20",
          "21-30",
          "31-40",
          "41-50",
          "51-60"
         ],
         "yaxis": "y2",
         "z": [
          [
           28,
           4,
           1,
           0,
           0,
           0
          ],
          [
           87,
           18,
           7,
           6,
           5,
           1
          ],
          [
           51,
           1,
           2,
           1,
           4,
           0
          ],
          [
           29,
           3,
           4,
           0,
           4,
           0
          ],
          [
           5,
           0,
           0,
           0,
           0,
           0
          ]
         ]
        }
       ],
       "layout": {
        "annotations": [
         {
          "font": {
           "size": 16
          },
          "showarrow": false,
          "text": "Violence = Yes",
          "x": 0.225,
          "xanchor": "center",
          "xref": "paper",
          "y": 1,
          "yanchor": "bottom",
          "yref": "paper"
         },
         {
          "font": {
           "size": 16
          },
          "showarrow": false,
          "text": "Violence = No",
          "x": 0.775,
          "xanchor": "center",
          "xref": "paper",
          "y": 1,
          "yanchor": "bottom",
          "yref": "paper"
         }
        ],
        "font": {
         "family": "cursive",
         "size": 12
        },
        "height": 600,
        "paper_bgcolor": "#fcfcfc",
        "template": {
         "data": {
          "bar": [
           {
            "error_x": {
             "color": "#2a3f5f"
            },
            "error_y": {
             "color": "#2a3f5f"
            },
            "marker": {
             "line": {
              "color": "#E5ECF6",
              "width": 0.5
             },
             "pattern": {
              "fillmode": "overlay",
              "size": 10,
              "solidity": 0.2
             }
            },
            "type": "bar"
           }
          ],
          "barpolar": [
           {
            "marker": {
             "line": {
              "color": "#E5ECF6",
              "width": 0.5
             },
             "pattern": {
              "fillmode": "overlay",
              "size": 10,
              "solidity": 0.2
             }
            },
            "type": "barpolar"
           }
          ],
          "carpet": [
           {
            "aaxis": {
             "endlinecolor": "#2a3f5f",
             "gridcolor": "white",
             "linecolor": "white",
             "minorgridcolor": "white",
             "startlinecolor": "#2a3f5f"
            },
            "baxis": {
             "endlinecolor": "#2a3f5f",
             "gridcolor": "white",
             "linecolor": "white",
             "minorgridcolor": "white",
             "startlinecolor": "#2a3f5f"
            },
            "type": "carpet"
           }
          ],
          "choropleth": [
           {
            "colorbar": {
             "outlinewidth": 0,
             "ticks": ""
            },
            "type": "choropleth"
           }
          ],
          "contour": [
           {
            "colorbar": {
             "outlinewidth": 0,
             "ticks": ""
            },
            "colorscale": [
             [
              0,
              "#0d0887"
             ],
             [
              0.1111111111111111,
              "#46039f"
             ],
             [
              0.2222222222222222,
              "#7201a8"
             ],
             [
              0.3333333333333333,
              "#9c179e"
             ],
             [
              0.4444444444444444,
              "#bd3786"
             ],
             [
              0.5555555555555556,
              "#d8576b"
             ],
             [
              0.6666666666666666,
              "#ed7953"
             ],
             [
              0.7777777777777778,
              "#fb9f3a"
             ],
             [
              0.8888888888888888,
              "#fdca26"
             ],
             [
              1,
              "#f0f921"
             ]
            ],
            "type": "contour"
           }
          ],
          "contourcarpet": [
           {
            "colorbar": {
             "outlinewidth": 0,
             "ticks": ""
            },
            "type": "contourcarpet"
           }
          ],
          "heatmap": [
           {
            "colorbar": {
             "outlinewidth": 0,
             "ticks": ""
            },
            "colorscale": [
             [
              0,
              "#0d0887"
             ],
             [
              0.1111111111111111,
              "#46039f"
             ],
             [
              0.2222222222222222,
              "#7201a8"
             ],
             [
              0.3333333333333333,
              "#9c179e"
             ],
             [
              0.4444444444444444,
              "#bd3786"
             ],
             [
              0.5555555555555556,
              "#d8576b"
             ],
             [
              0.6666666666666666,
              "#ed7953"
             ],
             [
              0.7777777777777778,
              "#fb9f3a"
             ],
             [
              0.8888888888888888,
              "#fdca26"
             ],
             [
              1,
              "#f0f921"
             ]
            ],
            "type": "heatmap"
           }
          ],
          "heatmapgl": [
           {
            "colorbar": {
             "outlinewidth": 0,
             "ticks": ""
            },
            "colorscale": [
             [
              0,
              "#0d0887"
             ],
             [
              0.1111111111111111,
              "#46039f"
             ],
             [
              0.2222222222222222,
              "#7201a8"
             ],
             [
              0.3333333333333333,
              "#9c179e"
             ],
             [
              0.4444444444444444,
              "#bd3786"
             ],
             [
              0.5555555555555556,
              "#d8576b"
             ],
             [
              0.6666666666666666,
              "#ed7953"
             ],
             [
              0.7777777777777778,
              "#fb9f3a"
             ],
             [
              0.8888888888888888,
              "#fdca26"
             ],
             [
              1,
              "#f0f921"
             ]
            ],
            "type": "heatmapgl"
           }
          ],
          "histogram": [
           {
            "marker": {
             "pattern": {
              "fillmode": "overlay",
              "size": 10,
              "solidity": 0.2
             }
            },
            "type": "histogram"
           }
          ],
          "histogram2d": [
           {
            "colorbar": {
             "outlinewidth": 0,
             "ticks": ""
            },
            "colorscale": [
             [
              0,
              "#0d0887"
             ],
             [
              0.1111111111111111,
              "#46039f"
             ],
             [
              0.2222222222222222,
              "#7201a8"
             ],
             [
              0.3333333333333333,
              "#9c179e"
             ],
             [
              0.4444444444444444,
              "#bd3786"
             ],
             [
              0.5555555555555556,
              "#d8576b"
             ],
             [
              0.6666666666666666,
              "#ed7953"
             ],
             [
              0.7777777777777778,
              "#fb9f3a"
             ],
             [
              0.8888888888888888,
              "#fdca26"
             ],
             [
              1,
              "#f0f921"
             ]
            ],
            "type": "histogram2d"
           }
          ],
          "histogram2dcontour": [
           {
            "colorbar": {
             "outlinewidth": 0,
             "ticks": ""
            },
            "colorscale": [
             [
              0,
              "#0d0887"
             ],
             [
              0.1111111111111111,
              "#46039f"
             ],
             [
              0.2222222222222222,
              "#7201a8"
             ],
             [
              0.3333333333333333,
              "#9c179e"
             ],
             [
              0.4444444444444444,
              "#bd3786"
             ],
             [
              0.5555555555555556,
              "#d8576b"
             ],
             [
              0.6666666666666666,
              "#ed7953"
             ],
             [
              0.7777777777777778,
              "#fb9f3a"
             ],
             [
              0.8888888888888888,
              "#fdca26"
             ],
             [
              1,
              "#f0f921"
             ]
            ],
            "type": "histogram2dcontour"
           }
          ],
          "mesh3d": [
           {
            "colorbar": {
             "outlinewidth": 0,
             "ticks": ""
            },
            "type": "mesh3d"
           }
          ],
          "parcoords": [
           {
            "line": {
             "colorbar": {
              "outlinewidth": 0,
              "ticks": ""
             }
            },
            "type": "parcoords"
           }
          ],
          "pie": [
           {
            "automargin": true,
            "type": "pie"
           }
          ],
          "scatter": [
           {
            "fillpattern": {
             "fillmode": "overlay",
             "size": 10,
             "solidity": 0.2
            },
            "type": "scatter"
           }
          ],
          "scatter3d": [
           {
            "line": {
             "colorbar": {
              "outlinewidth": 0,
              "ticks": ""
             }
            },
            "marker": {
             "colorbar": {
              "outlinewidth": 0,
              "ticks": ""
             }
            },
            "type": "scatter3d"
           }
          ],
          "scattercarpet": [
           {
            "marker": {
             "colorbar": {
              "outlinewidth": 0,
              "ticks": ""
             }
            },
            "type": "scattercarpet"
           }
          ],
          "scattergeo": [
           {
            "marker": {
             "colorbar": {
              "outlinewidth": 0,
              "ticks": ""
             }
            },
            "type": "scattergeo"
           }
          ],
          "scattergl": [
           {
            "marker": {
             "colorbar": {
              "outlinewidth": 0,
              "ticks": ""
             }
            },
            "type": "scattergl"
           }
          ],
          "scattermapbox": [
           {
            "marker": {
             "colorbar": {
              "outlinewidth": 0,
              "ticks": ""
             }
            },
            "type": "scattermapbox"
           }
          ],
          "scatterpolar": [
           {
            "marker": {
             "colorbar": {
              "outlinewidth": 0,
              "ticks": ""
             }
            },
            "type": "scatterpolar"
           }
          ],
          "scatterpolargl": [
           {
            "marker": {
             "colorbar": {
              "outlinewidth": 0,
              "ticks": ""
             }
            },
            "type": "scatterpolargl"
           }
          ],
          "scatterternary": [
           {
            "marker": {
             "colorbar": {
              "outlinewidth": 0,
              "ticks": ""
             }
            },
            "type": "scatterternary"
           }
          ],
          "surface": [
           {
            "colorbar": {
             "outlinewidth": 0,
             "ticks": ""
            },
            "colorscale": [
             [
              0,
              "#0d0887"
             ],
             [
              0.1111111111111111,
              "#46039f"
             ],
             [
              0.2222222222222222,
              "#7201a8"
             ],
             [
              0.3333333333333333,
              "#9c179e"
             ],
             [
              0.4444444444444444,
              "#bd3786"
             ],
             [
              0.5555555555555556,
              "#d8576b"
             ],
             [
              0.6666666666666666,
              "#ed7953"
             ],
             [
              0.7777777777777778,
              "#fb9f3a"
             ],
             [
              0.8888888888888888,
              "#fdca26"
             ],
             [
              1,
              "#f0f921"
             ]
            ],
            "type": "surface"
           }
          ],
          "table": [
           {
            "cells": {
             "fill": {
              "color": "#EBF0F8"
             },
             "line": {
              "color": "white"
             }
            },
            "header": {
             "fill": {
              "color": "#C8D4E3"
             },
             "line": {
              "color": "white"
             }
            },
            "type": "table"
           }
          ]
         },
         "layout": {
          "annotationdefaults": {
           "arrowcolor": "#2a3f5f",
           "arrowhead": 0,
           "arrowwidth": 1
          },
          "autotypenumbers": "strict",
          "coloraxis": {
           "colorbar": {
            "outlinewidth": 0,
            "ticks": ""
           }
          },
          "colorscale": {
           "diverging": [
            [
             0,
             "#8e0152"
            ],
            [
             0.1,
             "#c51b7d"
            ],
            [
             0.2,
             "#de77ae"
            ],
            [
             0.3,
             "#f1b6da"
            ],
            [
             0.4,
             "#fde0ef"
            ],
            [
             0.5,
             "#f7f7f7"
            ],
            [
             0.6,
             "#e6f5d0"
            ],
            [
             0.7,
             "#b8e186"
            ],
            [
             0.8,
             "#7fbc41"
            ],
            [
             0.9,
             "#4d9221"
            ],
            [
             1,
             "#276419"
            ]
           ],
           "sequential": [
            [
             0,
             "#0d0887"
            ],
            [
             0.1111111111111111,
             "#46039f"
            ],
            [
             0.2222222222222222,
             "#7201a8"
            ],
            [
             0.3333333333333333,
             "#9c179e"
            ],
            [
             0.4444444444444444,
             "#bd3786"
            ],
            [
             0.5555555555555556,
             "#d8576b"
            ],
            [
             0.6666666666666666,
             "#ed7953"
            ],
            [
             0.7777777777777778,
             "#fb9f3a"
            ],
            [
             0.8888888888888888,
             "#fdca26"
            ],
            [
             1,
             "#f0f921"
            ]
           ],
           "sequentialminus": [
            [
             0,
             "#0d0887"
            ],
            [
             0.1111111111111111,
             "#46039f"
            ],
            [
             0.2222222222222222,
             "#7201a8"
            ],
            [
             0.3333333333333333,
             "#9c179e"
            ],
            [
             0.4444444444444444,
             "#bd3786"
            ],
            [
             0.5555555555555556,
             "#d8576b"
            ],
            [
             0.6666666666666666,
             "#ed7953"
            ],
            [
             0.7777777777777778,
             "#fb9f3a"
            ],
            [
             0.8888888888888888,
             "#fdca26"
            ],
            [
             1,
             "#f0f921"
            ]
           ]
          },
          "colorway": [
           "#636efa",
           "#EF553B",
           "#00cc96",
           "#ab63fa",
           "#FFA15A",
           "#19d3f3",
           "#FF6692",
           "#B6E880",
           "#FF97FF",
           "#FECB52"
          ],
          "font": {
           "color": "#2a3f5f"
          },
          "geo": {
           "bgcolor": "white",
           "lakecolor": "white",
           "landcolor": "#E5ECF6",
           "showlakes": true,
           "showland": true,
           "subunitcolor": "white"
          },
          "hoverlabel": {
           "align": "left"
          },
          "hovermode": "closest",
          "mapbox": {
           "style": "light"
          },
          "paper_bgcolor": "white",
          "plot_bgcolor": "#E5ECF6",
          "polar": {
           "angularaxis": {
            "gridcolor": "white",
            "linecolor": "white",
            "ticks": ""
           },
           "bgcolor": "#E5ECF6",
           "radialaxis": {
            "gridcolor": "white",
            "linecolor": "white",
            "ticks": ""
           }
          },
          "scene": {
           "xaxis": {
            "backgroundcolor": "#E5ECF6",
            "gridcolor": "white",
            "gridwidth": 2,
            "linecolor": "white",
            "showbackground": true,
            "ticks": "",
            "zerolinecolor": "white"
           },
           "yaxis": {
            "backgroundcolor": "#E5ECF6",
            "gridcolor": "white",
            "gridwidth": 2,
            "linecolor": "white",
            "showbackground": true,
            "ticks": "",
            "zerolinecolor": "white"
           },
           "zaxis": {
            "backgroundcolor": "#E5ECF6",
            "gridcolor": "white",
            "gridwidth": 2,
            "linecolor": "white",
            "showbackground": true,
            "ticks": "",
            "zerolinecolor": "white"
           }
          },
          "shapedefaults": {
           "line": {
            "color": "#2a3f5f"
           }
          },
          "ternary": {
           "aaxis": {
            "gridcolor": "white",
            "linecolor": "white",
            "ticks": ""
           },
           "baxis": {
            "gridcolor": "white",
            "linecolor": "white",
            "ticks": ""
           },
           "bgcolor": "#E5ECF6",
           "caxis": {
            "gridcolor": "white",
            "linecolor": "white",
            "ticks": ""
           }
          },
          "title": {
           "x": 0.05
          },
          "xaxis": {
           "automargin": true,
           "gridcolor": "white",
           "linecolor": "white",
           "ticks": "",
           "title": {
            "standoff": 15
           },
           "zerolinecolor": "white",
           "zerolinewidth": 2
          },
          "yaxis": {
           "automargin": true,
           "gridcolor": "white",
           "linecolor": "white",
           "ticks": "",
           "title": {
            "standoff": 15
           },
           "zerolinecolor": "white",
           "zerolinewidth": 2
          }
         }
        },
        "title": {
         "text": "Heatmap of Age vs Income for Domestic Violence",
         "x": 0.5
        },
        "width": 1000,
        "xaxis": {
         "anchor": "y",
         "domain": [
          0,
          0.45
         ],
         "linecolor": "black",
         "linewidth": 2,
         "showline": true,
         "title": {
          "text": "Income"
         }
        },
        "xaxis2": {
         "anchor": "y2",
         "domain": [
          0.55,
          1
         ],
         "linecolor": "black",
         "linewidth": 2,
         "showline": true,
         "title": {
          "text": "Income"
         }
        },
        "yaxis": {
         "anchor": "x",
         "domain": [
          0,
          1
         ],
         "linecolor": "black",
         "linewidth": 2,
         "showline": true,
         "title": {
          "text": "Age"
         }
        },
        "yaxis2": {
         "anchor": "x2",
         "domain": [
          0,
          1
         ],
         "linecolor": "black",
         "linewidth": 2,
         "showline": true,
         "title": {
          "text": "Age"
         }
        }
       }
      }
     },
     "metadata": {},
     "output_type": "display_data"
    }
   ],
   "source": [
    "import pandas as pd\n",
    "import plotly.express as px\n",
    "import plotly.graph_objects as go\n",
    "from plotly.subplots import make_subplots\n",
    "\n",
    "# Convert Income to numeric, replacing non-numeric values with 0\n",
    "df['Income'] = pd.to_numeric(df['Income'], errors='coerce').fillna(0)\n",
    "\n",
    "# Create age bins\n",
    "age_bins = [0, 20, 30, 40, 50, 60]\n",
    "age_labels = ['0-20', '21-30', '31-40', '41-50', '51-60']\n",
    "\n",
    "# Create income bins\n",
    "income_bins = [0, 1000, 5000, 10000, 20000, 30000, df['Income'].max()]\n",
    "income_labels = ['0', '1-5k', '5k-10k', '10k-20k', '20k-30k', '30k+']\n",
    "\n",
    "# Function to create pivot table\n",
    "def create_pivot(df):\n",
    "    df['Age_bin'] = pd.cut(df['Age'], bins=age_bins, labels=age_labels, include_lowest=True)\n",
    "    df['Income_bin'] = pd.cut(df['Income'], bins=income_bins, labels=income_labels, include_lowest=True)\n",
    "    pivot = df.pivot_table(values='SL. No', index='Age_bin', columns='Income_bin', aggfunc='count', fill_value=0)\n",
    "    return pivot\n",
    "\n",
    "# Create pivot tables\n",
    "pivot_yes = create_pivot(df[df['Violence'] == 'yes'])\n",
    "pivot_no = create_pivot(df[df['Violence'] == 'no'])\n",
    "\n",
    "# Create subplots\n",
    "fig = make_subplots(rows=1, cols=2, subplot_titles=(\"Violence = Yes\", \"Violence = No\"))\n",
    "\n",
    "# Custom color sequences\n",
    "custom_color_sequence = ['#fc2f00', '#c200fb']\n",
    "\n",
    "# Add heatmaps\n",
    "fig.add_trace(\n",
    "    go.Heatmap(z=pivot_yes.values, x=pivot_yes.columns, y=pivot_yes.index, \n",
    "               colorscale=[[0, '#fcfcfc'], [1, custom_color_sequence[0]]],\n",
    "               showscale=False),  # Remove color scale legend\n",
    "    row=1, col=1\n",
    ")\n",
    "fig.add_trace(\n",
    "    go.Heatmap(z=pivot_no.values, x=pivot_no.columns, y=pivot_no.index, \n",
    "               colorscale=[[0, '#fcfcfc'], [1, custom_color_sequence[1]]],\n",
    "               showscale=False),  # Remove color scale legend\n",
    "    row=1, col=2\n",
    ")\n",
    "\n",
    "# Update layout\n",
    "fig.update_layout(\n",
    "    title='Heatmap of Age vs Income for Domestic Violence',\n",
    "    font=dict(family=\"cursive\", size=12),\n",
    "    width=1000,\n",
    "    height=600,\n",
    "    title_x=0.5,\n",
    "    paper_bgcolor='#fcfcfc'\n",
    ")\n",
    "\n",
    "# Update axes\n",
    "for i in [1, 2]:\n",
    "    fig.update_xaxes(title_text=\"Income\", row=1, col=i, showline=True, linewidth=2, linecolor='black')\n",
    "    fig.update_yaxes(title_text=\"Age\", row=1, col=i, showline=True, linewidth=2, linecolor='black')\n",
    "\n",
    "# Show the figure\n",
    "fig.show()"
   ]
  }
 ],
 "metadata": {
  "kernelspec": {
   "display_name": "data",
   "language": "python",
   "name": "python3"
  },
  "language_info": {
   "codemirror_mode": {
    "name": "ipython",
    "version": 3
   },
   "file_extension": ".py",
   "mimetype": "text/x-python",
   "name": "python",
   "nbconvert_exporter": "python",
   "pygments_lexer": "ipython3",
   "version": "3.8.19"
  }
 },
 "nbformat": 4,
 "nbformat_minor": 2
}
